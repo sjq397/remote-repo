{
 "cells": [
  {
   "cell_type": "code",
   "execution_count": 160,
   "id": "8785de5c",
   "metadata": {},
   "outputs": [],
   "source": [
    "import wfdb\n",
    "from scipy import signal\n",
    "import matplotlib.pyplot as plt\n",
    "import neurokit2 as nk\n",
    "import numpy as np\n",
    "import pandas as pd\n",
    "import csv\n",
    "from hrvanalysis import get_time_domain_features\n",
    "import seaborn as sns\n",
    "import pickle\n",
    "from scipy.signal import welch\n",
    "from scipy.stats import kurtosis\n",
    "from scipy.stats import skew\n",
    "from scipy.stats import entropy\n",
    "from scipy.signal import argrelextrema"
   ]
  },
  {
   "cell_type": "code",
   "execution_count": 319,
   "id": "b044075d",
   "metadata": {},
   "outputs": [],
   "source": [
    "# 加载保存的 HF_AX 列表\n",
    "with open('HF_AX_1.pkl', 'rb') as file:\n",
    "    HF_AX = pickle.load(file)"
   ]
  },
  {
   "cell_type": "code",
   "execution_count": 311,
   "id": "84888d51",
   "metadata": {},
   "outputs": [],
   "source": [
    "# 时域特征：\n",
    "# Mean Absolute Value (MAV)：计算信号的绝对值的平均值。\n",
    "# Root Mean Square (RMS)：计算信号的平方的均值的平方根。\n",
    "# Variance (VAR)：计算信号的方差，用于衡量信号的能量。\n",
    "# Waveform Length (WL)：计算信号的累积长度。\n",
    "# Zero Crossings (ZC)：计算信号穿过零点的次数。\n",
    "# Slope Sign Changes (SSC)：计算信号的斜率变化的次数。\n",
    "# Willison Amplitude (WAMP)：计算相邻样本之间差异超过阈值的次数。\n",
    "# Simple Square Integral (SSI)：计算信号的能量。\n",
    "# Standard Deviation (SD)：计算信号的标准差。\n",
    "# Absolute Value Of The Summation Of Expth (ASM)：计算信号的绝对值的和。\n",
    "# Absolute Value Of The Summation Of Square Root (ASS)：计算信号的平方根的和。\n",
    "# Cardinality (CARD)：计算信号的不同值的数量。\n",
    "# Coefficient Of Variation (COV)：计算信号的标准差与均值的比率。\n",
    "# Difference Absolute Mean Value (DAMV)：计算信号均值的绝对差异。\n",
    "# Difference Absolute Standard Deviation Value (DASDV)：计算信号的波长的标准差值。\n",
    "\n",
    "# 频域特征：\n",
    "# Frequency Median (FMD)：计算频谱的中位数。\n",
    "# Frequency Mean (FMN)：计算频谱的平均值。\n",
    "# Modified Frequency Median (MFMD)：计算修改后的频谱中位数。\n",
    "# Frequency Ratio (FR)：计算不同频率内容之间的差异。\n",
    "\n",
    "# 非线性特征：\n",
    "# Sample Entropy (SampEn)：计算样本熵，用于评估时间序列的规则性。\n",
    "# Approximate Entropy (ApEn)：计算近似熵，用于估计时间序列的规则性。\n",
    "# Distance Entropy (DistEn)：计算距离熵，用于完整量化状态空间中矢量之间的距离信息。\n",
    "# Fuzzy Entropy (FuzzyEn)：计算模糊熵，引入模糊集的概念。\n",
    "# Fuzzy Measure Entropy (FuzzyMEn)：计算模糊测度熵，考虑局部和全局特征。\n",
    "# Permutation entropy (PermEn)：计算排列熵，用于测量混沌时间序列的复杂性。"
   ]
  },
  {
   "cell_type": "code",
   "execution_count": null,
   "id": "b6594f35",
   "metadata": {},
   "outputs": [],
   "source": []
  },
  {
   "cell_type": "markdown",
   "id": "d8a78ac9",
   "metadata": {},
   "source": [
    "## 经典时域特征提取"
   ]
  },
  {
   "cell_type": "markdown",
   "id": "b77ece5b",
   "metadata": {},
   "source": [
    "### 特征函数"
   ]
  },
  {
   "cell_type": "code",
   "execution_count": 157,
   "id": "54fc6a6a",
   "metadata": {},
   "outputs": [],
   "source": [
    "# 1. Mean Absolute Value (MAV)\n",
    "def mean_absolute_value(signal):\n",
    "    mav = np.mean(np.abs(signal))\n",
    "    return mav\n",
    "\n",
    "# 2. Root Mean Square (RMS)\n",
    "def root_mean_square(signal):\n",
    "    rms = np.sqrt(np.mean(signal**2))\n",
    "    return rms\n",
    "\n",
    "# 3. Variance (VAR)\n",
    "def variance(signal):\n",
    "    var = np.var(signal)\n",
    "    return var\n",
    "\n",
    "# 4. Waveform Length (WL)\n",
    "def waveform_length(signal):\n",
    "    wl = np.sum(np.abs(np.diff(signal)))\n",
    "    return wl\n",
    "\n",
    "# 5. Zero Crossings (ZC)\n",
    "def zero_crossings(signal):\n",
    "    zc = np.sum(np.diff(np.sign(signal)) != 0)\n",
    "    return zc\n",
    "\n",
    "# 6. Slope Sign Changes (SSC)\n",
    "def slope_sign_changes(signal):\n",
    "    diff_sign = np.diff(np.sign(np.diff(signal)))\n",
    "    ssc = np.sum(diff_sign != 0)\n",
    "    return ssc\n",
    "\n",
    "# 7. Willison Amplitude (WAMP)\n",
    "def willison_amplitude(signal, threshold):\n",
    "    if threshold == None:\n",
    "        threshold = 0.1 * np.std(qrs)\n",
    "    # 初始化计数器\n",
    "    wamp_count = 0\n",
    "    # 计算振幅变化次数\n",
    "    for i in range(1, len(signal)):\n",
    "        if abs(signal[i] - signal[i-1]) >= threshold:\n",
    "            wamp_count += 1          \n",
    "    return wamp_count\n",
    "\n",
    "\n",
    "# 8. Simple Square Integral (SSI)\n",
    "def simple_square_integral(signal):\n",
    "    ssi = np.sum(signal**2)\n",
    "    return ssi\n",
    "\n",
    "# 9. Standard Deviation (SD)\n",
    "def standard_deviation(signal):\n",
    "    sd = np.std(signal)\n",
    "    return sd\n",
    "\n",
    "# 10. Absolute Value Of The Summation Of Expth (ASM)\n",
    "def absolute_sum_exp(signal):\n",
    "    asm = np.sum(np.abs(signal))\n",
    "    return asm\n",
    "\n",
    "# 11. Absolute Value Of The Summation Of Square Root (ASS)\n",
    "def absolute_sum_sqrt(signal):\n",
    "    ass = np.sum(np.sqrt(np.abs(signal)))\n",
    "    return ass\n",
    "\n",
    "# 12. Cardinality (CARD)\n",
    "def cardinality(signal):\n",
    "    card = len(np.unique(signal))\n",
    "    return card\n",
    "\n",
    "# 13. Coefficient Of Variation (COV)\n",
    "def coefficient_of_variation(signal):\n",
    "    cov = np.std(signal) / np.mean(signal)\n",
    "    return cov\n",
    "\n",
    "# 14. Difference Absolute Mean Value (DAMV)\n",
    "def difference_absolute_mean_value(signal):\n",
    "    damv = np.mean(np.abs(np.diff(signal)))\n",
    "    return damv\n",
    "\n",
    "# 15. Difference Absolute Standard Deviation Value (DASDV)\n",
    "def difference_absolute_standard_deviation(signal):\n",
    "    dasdv = np.std(np.diff(signal))\n",
    "    return dasdv\n",
    "\n",
    "# 16. Difference Variance Value (DVARV)\n",
    "def difference_variance_value(signal):\n",
    "    diff_signal = np.diff(signal)\n",
    "    dvarv = np.var(diff_signal)\n",
    "    return dvarv\n",
    "\n",
    "# 17. Interquartile Range (IQR)\n",
    "def interquartile_range(signal):\n",
    "    q75, q25 = np.percentile(signal, [75 ,25])\n",
    "    iqr = q75 - q25\n",
    "    return iqr\n",
    "\n",
    "# 18. Kurtosis (KURT)\n",
    "def calculate_kurtosis(signal):\n",
    "    return kurtosis(signal)\n",
    "\n",
    "# 19. Log Teager Kaiser Energy Operator (LTKEO)\n",
    "def log_teager_kaiser_energy_operator(signal):\n",
    "    ltkeo = np.sum(np.square(signal[1:-1] - 0.5 * (signal[:-2] + signal[2:])))\n",
    "    return np.log(ltkeo)\n",
    "\n",
    "# 20. Mean Absolute Deviation (MAD)\n",
    "def mean_absolute_deviation(signal):\n",
    "    return np.mean(np.abs(signal - np.mean(signal)))\n",
    "\n",
    "# 21. Skewness (SKEW)\n",
    "def calculate_skewness(signal):\n",
    "    return skew(signal)\n",
    "\n",
    "# 22. amax\n",
    "def calculate_amax(signal):\n",
    "    return np.max(signal)"
   ]
  },
  {
   "cell_type": "code",
   "execution_count": 132,
   "id": "372763ae",
   "metadata": {},
   "outputs": [],
   "source": [
    "\n",
    "# 2. 频谱峰值频率 (Peak Frequency)\n",
    "def peak_frequency(signal, sampling_rate):\n",
    "    f, psd = welch(signal, fs=sampling_rate)\n",
    "    peak_freq = f[np.argmax(psd)]\n",
    "    return peak_freq\n",
    "\n",
    "# 3. 频谱带宽 (Bandwidth)\n",
    "def bandwidth(signal, sampling_rate):\n",
    "    f, psd = welch(signal, fs=sampling_rate)\n",
    "    half_max_psd = max(psd) / 2\n",
    "    mask = psd > half_max_psd\n",
    "    bw = f[mask][-1] - f[mask][0]\n",
    "    return bw\n",
    "\n",
    "# 4. 频谱能量 (Spectral Energy)\n",
    "def spectral_energy(signal, sampling_rate):\n",
    "    _, psd = welch(signal, fs=sampling_rate)\n",
    "    energy = np.trapz(psd, dx=(1/sampling_rate))\n",
    "    return energy"
   ]
  },
  {
   "cell_type": "code",
   "execution_count": 147,
   "id": "b304b359",
   "metadata": {},
   "outputs": [],
   "source": [
    "def sample_entropy(signal, m, r):\n",
    "    \"\"\"\n",
    "    计算样本熵（Sample Entropy）\n",
    "    \n",
    "    Parameters:\n",
    "    signal (ndarray): 输入信号\n",
    "    m (int): 子序列长度\n",
    "    r (float): 相似性阈值\n",
    "    \n",
    "    Returns:\n",
    "    float: 样本熵值\n",
    "    \"\"\"\n",
    "    if r == None:\n",
    "        r = np.std(signal)\n",
    "    N = len(signal)\n",
    "    m = int(m)\n",
    "    r = np.std(signal) * r\n",
    "    \n",
    "    def _maxdist(x_i, x_j):\n",
    "        return max([abs(ua - va) for ua, va in zip(x_i, x_j)])\n",
    "    \n",
    "    def _phi(m):\n",
    "        x = [[signal[j] for j in range(i, i + m - 1 + 1)] for i in range(N - m + 1)]\n",
    "        C = [len([1 for x_j in x if _maxdist(x_i, x_j) <= r]) for x_i in x]\n",
    "        return np.sum(C) / (N - m + 1)\n",
    "    \n",
    "    return -np.log(_phi(m+1) / _phi(m))\n",
    "\n",
    "def approximate_entropy(signal, m, r):\n",
    "    \"\"\"\n",
    "    计算近似熵（Approximate Entropy）\n",
    "    \n",
    "    Parameters:\n",
    "    signal (ndarray): 输入信号\n",
    "    m (int): 子序列长度\n",
    "    r (float): 相似性阈值\n",
    "    \n",
    "    Returns:\n",
    "    float: 近似熵值\n",
    "    \"\"\"\n",
    "    if r == None:\n",
    "        r = np.std(signal)\n",
    "    N = len(signal)\n",
    "    m = int(m)\n",
    "    r = np.std(signal) * r\n",
    "    \n",
    "    def _phi(m):\n",
    "        x = [[signal[j] for j in range(i, i + m - 1 + 1)] for i in range(N - m + 1)]\n",
    "        return np.mean([np.sum(np.abs(np.subtract(x_i, x_j)) <= r) - 1 for x_i in x for x_j in x])\n",
    "    \n",
    "    return -np.log(_phi(m+1) / _phi(m))\n",
    "\n",
    "def permutation_entropy(signal, m):\n",
    "    \"\"\"\n",
    "    计算排列熵（Permutation Entropy）\n",
    "    \n",
    "    Parameters:\n",
    "    signal (ndarray): 输入信号\n",
    "    m (int): 子序列长度\n",
    "    \n",
    "    Returns:\n",
    "    float: 排列熵值\n",
    "    \"\"\"\n",
    "    N = len(signal)\n",
    "    permutations = np.array(list(itertools.permutations(range(m))))\n",
    "    num_permutations = len(permutations)\n",
    "    \n",
    "    x = np.array([signal[i:i+m] for i in range(N-m+1)])\n",
    "    frequencies = np.zeros(num_permutations)\n",
    "    \n",
    "    for i, perm in enumerate(permutations):\n",
    "        for j, subseq in enumerate(x):\n",
    "            if np.all(np.argsort(subseq) == perm):\n",
    "                frequencies[i] += 1\n",
    "    \n",
    "    probabilities = frequencies / (N - m + 1)\n",
    "    \n",
    "    return -np.sum(probabilities * np.log(probabilities))\n",
    "\n",
    "def fuzzy_entropy(signal, m, r):\n",
    "    \"\"\"\n",
    "    计算模糊熵（Fuzzy Entropy）\n",
    "    \n",
    "    Parameters:\n",
    "    signal (ndarray): 输入信号\n",
    "    m (int): 子序列长度\n",
    "    r (float): 相似性阈值\n",
    "    \n",
    "    Returns:\n",
    "    float: 模糊熵值\n",
    "    \"\"\"\n",
    "    if r == None:\n",
    "        r = np.std(signal)\n",
    "    N = len(signal)\n",
    "    m = int(m)\n",
    "    r = np.std(signal) * r\n",
    "    \n",
    "    def _phi(m):\n",
    "        x = [[signal[j] for j in range(i, i + m - 1 + 1)] for i in range(N - m + 1)]\n",
    "        return np.mean([np.sum(np.exp(-((_maxdist(x_i, x_j) / r) ** 2))) for x_i in x for x_j in x])\n",
    "    \n",
    "    return -np.log(_phi(m+1) / _phi(m))"
   ]
  },
  {
   "cell_type": "markdown",
   "id": "d29ca283",
   "metadata": {},
   "source": [
    "### 1. Mean Absolute Value (MAV)"
   ]
  },
  {
   "cell_type": "code",
   "execution_count": 320,
   "id": "fa35c730",
   "metadata": {},
   "outputs": [],
   "source": [
    "mav_val = []\n",
    "for ecg in HF_AX:\n",
    "    mav_list = []\n",
    "    for qrs in ecg[0]:    \n",
    "        mav = mean_absolute_value(qrs)  # 修正此处传递的参数\n",
    "        mav_list.append(mav)  # 修正此处添加的对象\n",
    "    mav_val.append(np.mean(mav_list))"
   ]
  },
  {
   "cell_type": "code",
   "execution_count": 321,
   "id": "a5d9386b",
   "metadata": {},
   "outputs": [
    {
     "data": {
      "text/plain": [
       "448"
      ]
     },
     "execution_count": 321,
     "metadata": {},
     "output_type": "execute_result"
    }
   ],
   "source": [
    "len(mav_val)"
   ]
  },
  {
   "cell_type": "code",
   "execution_count": 322,
   "id": "8d8452cb",
   "metadata": {},
   "outputs": [
    {
     "data": {
      "text/plain": [
       "[0.0007488462456770814,\n",
       " 0.0009705236083123974,\n",
       " 0.0012496752147412777,\n",
       " 0.0007555638791390702,\n",
       " 0.0006838644010890035,\n",
       " 0.0012794000266370242,\n",
       " 0.001641971475010678,\n",
       " 0.0009879285205001915,\n",
       " 0.0009993138706238561,\n",
       " 0.0009098299243915711,\n",
       " 0.0014589449830632356,\n",
       " 0.0008476489049213127,\n",
       " 0.0009456734215536235,\n",
       " 0.0017285857348217821,\n",
       " 0.0011099574742423294,\n",
       " 0.0009244757610406129,\n",
       " 0.0014111040711141157,\n",
       " 0.0012232299058974887,\n",
       " 0.0007117039990688128,\n",
       " 0.0014656136784411194,\n",
       " 0.001188382715204881,\n",
       " 0.0009115383479929432,\n",
       " 0.0009355115946421587,\n",
       " 0.0012511700355575142,\n",
       " 0.0008095969611237562,\n",
       " 0.0009987030348453476,\n",
       " 0.0015798629818713748,\n",
       " 0.00363819599586812,\n",
       " 0.0009093454050495582,\n",
       " 0.001296152776218109,\n",
       " 0.002693954050880855,\n",
       " 0.001255410365048917,\n",
       " 0.0011001133805992845,\n",
       " 0.0007036840774784789,\n",
       " 0.0014506358053337914,\n",
       " 0.0007666832774911227,\n",
       " 0.0011726377689843547,\n",
       " 0.0010789764088650817,\n",
       " 0.0009255547823579059,\n",
       " 0.000822842729534331,\n",
       " 0.0011250310260401647,\n",
       " 0.001065456530507047,\n",
       " 0.0006014285705122487,\n",
       " 0.0010580698384831055,\n",
       " 0.0009313209381029365,\n",
       " 0.0009487244921064797,\n",
       " 0.0008504676910534206,\n",
       " 0.0006041873144515174,\n",
       " 0.0009827378288337577,\n",
       " 0.0011046722858562203,\n",
       " 0.0015769095713750176,\n",
       " 0.0008931680084265028,\n",
       " 0.0008788353474932792,\n",
       " 0.0009643585207517368,\n",
       " 0.0015446460796338705,\n",
       " 0.000819078812651669,\n",
       " 0.0010530460540883373,\n",
       " 0.0007997041812493312,\n",
       " 0.001178803913681077,\n",
       " 0.0013438405326766558,\n",
       " 0.0010736932783909814,\n",
       " 0.0021055405498673777,\n",
       " 0.001562878330834747,\n",
       " 0.0014031480479500251,\n",
       " 0.0012248950882906462,\n",
       " 0.0007107912312397386,\n",
       " 0.0010600688549728535,\n",
       " 0.0007663517776355432,\n",
       " 0.0009739299213536813,\n",
       " 0.0009506028206231169,\n",
       " 0.0009752501218261274,\n",
       " 0.0009045082061846538,\n",
       " 0.0008176806029752074,\n",
       " 0.0006844201984759846,\n",
       " 0.0006893686866549098,\n",
       " 0.0006472558567565618,\n",
       " 0.0006295726955115129,\n",
       " 0.0019279350297995805,\n",
       " 0.0009918600893473735,\n",
       " 0.000888601853100141,\n",
       " 0.001803673686245725,\n",
       " 0.0020855740630929156,\n",
       " 0.0035344002813269314,\n",
       " 0.0016445854013238392,\n",
       " 0.0016313766712426196,\n",
       " 0.001652325386798291,\n",
       " 0.0013418713825009267,\n",
       " 0.0008754663761662574,\n",
       " 0.0013796660220736928,\n",
       " 0.0016602239445525327,\n",
       " 0.0018690248570799439,\n",
       " 0.0009829484509549236,\n",
       " 0.001014286811839153,\n",
       " 0.00195527963864708,\n",
       " 0.0010220551231267631,\n",
       " 0.0015989859486945565,\n",
       " 0.002227070684948312,\n",
       " 0.0032328858241768036,\n",
       " 0.0010208136138639414,\n",
       " 0.0010762058811838327,\n",
       " 0.0007542942096933914,\n",
       " 0.001411357634585283,\n",
       " 0.0028934680641210407,\n",
       " 0.0011403094648553447,\n",
       " 0.0008330387698572961,\n",
       " 0.001012241050974362,\n",
       " 0.0018839730715656017,\n",
       " 0.0012278708794655686,\n",
       " 0.0011503539387737471,\n",
       " 0.0012651232475537643,\n",
       " 0.001533181847369159,\n",
       " 0.0010776112920992385,\n",
       " 0.001228805296397297,\n",
       " 0.0016711397104143197,\n",
       " 0.0014499816988855607,\n",
       " 0.0018519297876727673,\n",
       " 0.0015058085786905581,\n",
       " 0.0013007260003054812,\n",
       " 0.0024069920799332013,\n",
       " 0.0020075235246298302,\n",
       " 0.0020397706473326434,\n",
       " 0.0011908993507933365,\n",
       " 0.0014253038272065974,\n",
       " 0.0010320158098689935,\n",
       " 0.0013674995542372484,\n",
       " 0.0012110021408307872,\n",
       " 0.0008761225144077756,\n",
       " 0.001624194728964271,\n",
       " 0.0012897457056729865,\n",
       " 0.001586505926627862,\n",
       " 0.0008617522089151156,\n",
       " 0.0025685755571878245,\n",
       " 0.002127811541150159,\n",
       " 0.0015219750252954318,\n",
       " 0.0007959156009914777,\n",
       " 0.0013128196256833985,\n",
       " 0.0011945225620379478,\n",
       " 0.0018489576613337454,\n",
       " 0.001425873740431695,\n",
       " 0.0022642786090625302,\n",
       " 0.0009111985789408241,\n",
       " 0.0010838019921879057,\n",
       " 0.0006871469494604478,\n",
       " 0.001444547557462619,\n",
       " 0.0010365393463088381,\n",
       " 0.0010592988098535945,\n",
       " 0.0009396396542403962,\n",
       " 0.001678870690829085,\n",
       " 0.0010789451453931899,\n",
       " 0.0014499422856177175,\n",
       " 0.0008279681727393944,\n",
       " 0.0009305575965986461,\n",
       " 0.0008346149407944574,\n",
       " 0.0012549160282348476,\n",
       " 0.0008311212803533473,\n",
       " 0.001965168018562706,\n",
       " 0.0008811431726694025,\n",
       " 0.0012593926901588626,\n",
       " 0.0006363605729633411,\n",
       " 0.0006562723064251184,\n",
       " 0.0010709830614281481,\n",
       " 0.0009695841918414003,\n",
       " 0.002050695956643779,\n",
       " 0.001065243677071161,\n",
       " 0.0013584502804528875,\n",
       " 0.001010385455819207,\n",
       " 0.002511450840325975,\n",
       " 0.0019191248726311686,\n",
       " 0.0019332834123164879,\n",
       " 0.0009839860249888123,\n",
       " 0.0013278691352508088,\n",
       " 0.0008352605383908751,\n",
       " 0.0008311800026608723,\n",
       " 0.0017700072149224523,\n",
       " 0.0008716578816869933,\n",
       " 0.0013339236702193222,\n",
       " 0.0010820329716370362,\n",
       " 0.0009554494777164812,\n",
       " 0.0006527338433702515,\n",
       " 0.0007338942036175208,\n",
       " 0.0006308194959700027,\n",
       " 0.0011894999383921215,\n",
       " 0.0010083833401180252,\n",
       " 0.0012769787774829433,\n",
       " 0.0011614804487639074,\n",
       " 0.0012538937684212724,\n",
       " 0.0008844154014829566,\n",
       " 0.0009624034627928761,\n",
       " 0.0008606857209680008,\n",
       " 0.0011815152098554784,\n",
       " 0.0015238453607064046,\n",
       " 0.001118891555704044,\n",
       " 0.0012509265998489206,\n",
       " 0.001571859125297083,\n",
       " 0.0010828931774851188,\n",
       " 0.001411235607648432,\n",
       " 0.0011737824847616266,\n",
       " 0.0018270837823782739,\n",
       " 0.0013903098243938858,\n",
       " 0.0018618439886540824,\n",
       " 0.0018498932456741247,\n",
       " 0.0010530277160216144,\n",
       " 0.0013216543320944921,\n",
       " 0.000937405188861534,\n",
       " 0.0010475998385890222,\n",
       " 0.0011865983708475624,\n",
       " 0.0009665415787757387,\n",
       " 0.0010835542023944651,\n",
       " 0.000987069167677264,\n",
       " 0.0007466556107080639,\n",
       " 0.000861875096723532,\n",
       " 0.0009123341233544984,\n",
       " 0.0008586304970395628,\n",
       " 0.0014803827520360414,\n",
       " 0.0024579236273705044,\n",
       " 0.0008222242106709404,\n",
       " 0.0016484724951449977,\n",
       " 0.004017529473030713,\n",
       " 0.0014390216335552985,\n",
       " 0.0011423818453029345,\n",
       " 0.0014672716666364867,\n",
       " 0.000960993988242142,\n",
       " 0.0013234522020573916,\n",
       " 0.0015146611409827555,\n",
       " 0.001107400509915489,\n",
       " 0.0011127138911588954,\n",
       " 0.0012238315066324195,\n",
       " 0.002020044762358764,\n",
       " 0.0016009569272694764,\n",
       " 0.0023289877317003043,\n",
       " 0.0012492459761995769,\n",
       " 0.00170276814872508,\n",
       " 0.0008673079793761208,\n",
       " 0.0010286428096767304,\n",
       " 0.0024255257627606164,\n",
       " 0.000967520009519771,\n",
       " 0.0010951161835228455,\n",
       " 0.0013387483046660774,\n",
       " 0.0011884320210624575,\n",
       " 0.0013864336380379956,\n",
       " 0.001007272224753602,\n",
       " 0.0011271918559545122,\n",
       " 0.001580781597205419,\n",
       " 0.0013255237543292465,\n",
       " 0.0011358757481877424,\n",
       " 0.0012694372691776806,\n",
       " 0.0011732391397641763,\n",
       " 0.0014507860026586339,\n",
       " 0.0019357817910917775,\n",
       " 0.0017035850018706608,\n",
       " 0.001532705692763945,\n",
       " 0.0008840349424892181,\n",
       " 0.0011298681011967016,\n",
       " 0.0017740093305987515,\n",
       " 0.0016512263062334908,\n",
       " 0.0017973195175642119,\n",
       " 0.0007158476068916581,\n",
       " 0.0014074117700166237,\n",
       " 0.000981017490675072,\n",
       " 0.0014272968838680907,\n",
       " 0.0012822036095730225,\n",
       " 0.0012609587134672618,\n",
       " 0.0022184475984939065,\n",
       " 0.0010623874844287254,\n",
       " 0.0014023170239533945,\n",
       " 0.0009465446150413096,\n",
       " 0.0010171465134451365,\n",
       " 0.0009803798804900346,\n",
       " 0.001284093926812704,\n",
       " 0.0025844672877649065,\n",
       " 0.003021138578420229,\n",
       " 0.0020651861629855757,\n",
       " 0.0015221247575672367,\n",
       " 0.0010191802603102158,\n",
       " 0.0010381508373117918,\n",
       " 0.001325629026370207,\n",
       " 0.0009127280913380344,\n",
       " 0.0010835431821862973,\n",
       " 0.001510879899792357,\n",
       " 0.0013628149356022456,\n",
       " 0.0011994254063900616,\n",
       " 0.001275504602751255,\n",
       " 0.0009533561154364626,\n",
       " 0.0009844097243486435,\n",
       " 0.0016148406261440023,\n",
       " 0.0008252461591827448,\n",
       " 0.0007287490429244992,\n",
       " 0.002149882633123536,\n",
       " 0.002293271488570512,\n",
       " 0.002609528497796171,\n",
       " 0.001468673798439387,\n",
       " 0.002567894154969974,\n",
       " 0.001321776323531979,\n",
       " 0.0008185654556345661,\n",
       " 0.0008792695528264795,\n",
       " 0.0024060116430627914,\n",
       " 0.0014075393300796892,\n",
       " 0.0010479341569693077,\n",
       " 0.0011040285585318258,\n",
       " 0.002203102891128042,\n",
       " 0.0012333937936901025,\n",
       " 0.0013852020658077242,\n",
       " 0.0010738322332456195,\n",
       " 0.0011122860308699293,\n",
       " 0.0017727293306268772,\n",
       " 0.0012625988895381742,\n",
       " 0.0017759420303124153,\n",
       " 0.009015041848541336,\n",
       " 0.011604693896217764,\n",
       " 0.0008475128527715014,\n",
       " 0.000940270615822594,\n",
       " 0.0011408997264711034,\n",
       " 0.000972195747414492,\n",
       " 0.0006827399176775422,\n",
       " 0.0008488733137057275,\n",
       " 0.0014777516174824528,\n",
       " 0.0012762193418729803,\n",
       " 0.0009765018859058007,\n",
       " 0.0012033419900723038,\n",
       " 0.0010666611643963169,\n",
       " 0.001038937281029033,\n",
       " 0.0010426088687521908,\n",
       " 0.0009084079578140563,\n",
       " 0.0011231759495345154,\n",
       " 0.0012671142551171452,\n",
       " 0.0011785307547207337,\n",
       " 0.0010627636265074353,\n",
       " 0.0016435183026785754,\n",
       " 0.0012217621532847618,\n",
       " 0.0011451839194740545,\n",
       " 0.0008758457247686308,\n",
       " 0.000971981552778559,\n",
       " 0.00121725023304586,\n",
       " 0.000978333022669404,\n",
       " 0.00098063531692193,\n",
       " 0.0012464429303691124,\n",
       " 0.0017461515600694076,\n",
       " 0.0009802705464261436,\n",
       " 0.001063856142783802,\n",
       " 0.002033360410225472,\n",
       " 0.0012788732658000393,\n",
       " 0.0022694040509540652,\n",
       " 0.0020833679951118055,\n",
       " 0.0011724313665300288,\n",
       " 0.0010385838484194033,\n",
       " 0.001797635989694599,\n",
       " 0.0010181024045182634,\n",
       " 0.0015648077338490337,\n",
       " 0.0007448909593528949,\n",
       " 0.0011323522199529873,\n",
       " 0.0010493373045577287,\n",
       " 0.001086763379253399,\n",
       " 0.001484903070840884,\n",
       " 0.0015373963313341254,\n",
       " 0.001069403164049488,\n",
       " 0.0007969895467316547,\n",
       " 0.0010672750077207597,\n",
       " 0.0009410188548159808,\n",
       " 0.0008068400371361141,\n",
       " 0.0012976109243466286,\n",
       " 0.0014772657830362645,\n",
       " 0.0012813421956635784,\n",
       " 0.0012849274889802646,\n",
       " 0.002381086420507381,\n",
       " 0.0020251151831358763,\n",
       " 0.0014251316894806818,\n",
       " 0.0016478024937920193,\n",
       " 0.0013859016974905477,\n",
       " 0.00111552931388607,\n",
       " 0.0010586851112779044,\n",
       " 0.0017851953906116499,\n",
       " 0.001476114135799457,\n",
       " 0.0013884809760678495,\n",
       " 0.0012273363881134976,\n",
       " 0.0009105021489450134,\n",
       " 0.0011856341645249623,\n",
       " 0.0017182731068707605,\n",
       " 0.0011759345793023695,\n",
       " 0.001229424105108009,\n",
       " 0.00131493197158899,\n",
       " 0.0014282053834017393,\n",
       " 0.0008810282499032752,\n",
       " 0.00079397434849244,\n",
       " 0.0009854119637124393,\n",
       " 0.001087167397936611,\n",
       " 0.000943307863454029,\n",
       " 0.0012107120988778767,\n",
       " 0.0015001984000282108,\n",
       " 0.0018503532368203805,\n",
       " 0.0011958398594097024,\n",
       " 0.0014720676724065047,\n",
       " 0.001515691163544795,\n",
       " 0.001711005023949691,\n",
       " 0.001809952975876474,\n",
       " 0.0016322424824458197,\n",
       " 0.0009969259790813096,\n",
       " 0.001363832067699978,\n",
       " 0.0013088781971152062,\n",
       " 0.0012159356035791502,\n",
       " 0.0015644380621109572,\n",
       " 0.001798029639678506,\n",
       " 0.0011833556716080037,\n",
       " 0.004946521341041197,\n",
       " 0.0014733052147868578,\n",
       " 0.0011061228291814325,\n",
       " 0.0018753294493758764,\n",
       " 0.0018857714835633147,\n",
       " 0.0011763773069874233,\n",
       " 0.0019922623983907395,\n",
       " 0.0019891463148487996,\n",
       " 0.001037630161042301,\n",
       " 0.001033764116945667,\n",
       " 0.000861022009627945,\n",
       " 0.0016974521429351283,\n",
       " 0.0016540468884460111,\n",
       " 0.000897782487261487,\n",
       " 0.001318061559270826,\n",
       " 0.0009024474105643078,\n",
       " 0.0013939625941857508,\n",
       " 0.0011440683995378744,\n",
       " 0.000742638692167601,\n",
       " 0.0013289832694048458,\n",
       " 0.0005651558261028399,\n",
       " 0.0013038536630480897,\n",
       " 0.00171939017242192,\n",
       " 0.0012864538524610227,\n",
       " 0.0009620585758491413,\n",
       " 0.0015279520871045763,\n",
       " 0.0008330303893586402,\n",
       " 0.000740563824380022,\n",
       " 0.001296091707336929,\n",
       " 0.0017426176645899613,\n",
       " 0.0013874331541976568,\n",
       " 0.0012892600324762439,\n",
       " 0.0012138777627611185,\n",
       " 0.0010918895016022352,\n",
       " 0.0009743216790464495,\n",
       " 0.0023727058524374693,\n",
       " 0.0017593173189710167,\n",
       " 0.0017026259244543058,\n",
       " 0.0014690168473855104,\n",
       " 0.0010379019500989246,\n",
       " 0.005333894216756199,\n",
       " 0.017079427650267192,\n",
       " 0.0018572624623638394,\n",
       " 0.018708493806731095,\n",
       " 0.0015827306593776593,\n",
       " 0.001654461922901847]"
      ]
     },
     "execution_count": 322,
     "metadata": {},
     "output_type": "execute_result"
    }
   ],
   "source": [
    "mav_val"
   ]
  },
  {
   "cell_type": "markdown",
   "id": "f7e41e6a",
   "metadata": {},
   "source": [
    "### 2. Root Mean Square (RMS)"
   ]
  },
  {
   "cell_type": "code",
   "execution_count": 323,
   "id": "08c5ce7b",
   "metadata": {},
   "outputs": [],
   "source": [
    "rms_val = []\n",
    "for ecg in HF_AX:\n",
    "    rms_list = []\n",
    "    for qrs in ecg[0]:    \n",
    "        rms = root_mean_square(qrs)  # 修正此处传递的参数\n",
    "        rms_list.append(rms)  # 修正此处添加的对象\n",
    "    rms_val.append(np.mean(rms_list))"
   ]
  },
  {
   "cell_type": "code",
   "execution_count": 324,
   "id": "54ba621c",
   "metadata": {},
   "outputs": [
    {
     "data": {
      "text/plain": [
       "448"
      ]
     },
     "execution_count": 324,
     "metadata": {},
     "output_type": "execute_result"
    }
   ],
   "source": [
    "len(rms_val)"
   ]
  },
  {
   "cell_type": "markdown",
   "id": "94c87da2",
   "metadata": {},
   "source": [
    "### 3. Variance (VAR)"
   ]
  },
  {
   "cell_type": "code",
   "execution_count": 325,
   "id": "53c9abcd",
   "metadata": {},
   "outputs": [],
   "source": [
    "var_val = []\n",
    "for ecg in HF_AX:\n",
    "    var_list = []\n",
    "    for qrs in ecg[0]:    \n",
    "        var = variance(qrs)  # 修正此处传递的参数\n",
    "        var_list.append(var)  # 修正此处添加的对象\n",
    "    var_val.append(np.mean(var_list))"
   ]
  },
  {
   "cell_type": "code",
   "execution_count": 326,
   "id": "37642cf3",
   "metadata": {},
   "outputs": [
    {
     "data": {
      "text/plain": [
       "448"
      ]
     },
     "execution_count": 326,
     "metadata": {},
     "output_type": "execute_result"
    }
   ],
   "source": [
    "len(var_val)"
   ]
  },
  {
   "cell_type": "markdown",
   "id": "547f1a89",
   "metadata": {},
   "source": [
    "### 4. Waveform Length (WL)"
   ]
  },
  {
   "cell_type": "code",
   "execution_count": 327,
   "id": "4ce6a074",
   "metadata": {},
   "outputs": [],
   "source": [
    "wl_val = []\n",
    "for ecg in HF_AX:\n",
    "    wl_list = []\n",
    "    for qrs in ecg[0]:    \n",
    "        wl = waveform_length(qrs)  # 修正此处传递的参数\n",
    "        wl_list.append(wl)  # 修正此处添加的对象\n",
    "    wl_val.append(np.mean(wl_list))"
   ]
  },
  {
   "cell_type": "code",
   "execution_count": 328,
   "id": "6bb5839e",
   "metadata": {},
   "outputs": [
    {
     "data": {
      "text/plain": [
       "448"
      ]
     },
     "execution_count": 328,
     "metadata": {},
     "output_type": "execute_result"
    }
   ],
   "source": [
    "len(wl_val)"
   ]
  },
  {
   "cell_type": "markdown",
   "id": "10ddc4e1",
   "metadata": {},
   "source": [
    "### 5. Zero Crossings (ZC)"
   ]
  },
  {
   "cell_type": "code",
   "execution_count": 329,
   "id": "50278bfe",
   "metadata": {},
   "outputs": [],
   "source": [
    "zc_val = []\n",
    "for ecg in HF_AX:\n",
    "    zc_list = []\n",
    "    for qrs in ecg[0]:    \n",
    "        zc = zero_crossings(qrs)  # 修正此处传递的参数\n",
    "        zc_list.append(zc)  # 修正此处添加的对象\n",
    "    zc_val.append(np.mean(zc_list))"
   ]
  },
  {
   "cell_type": "code",
   "execution_count": 330,
   "id": "a69a659a",
   "metadata": {},
   "outputs": [
    {
     "data": {
      "text/plain": [
       "448"
      ]
     },
     "execution_count": 330,
     "metadata": {},
     "output_type": "execute_result"
    }
   ],
   "source": [
    "len(zc_val)"
   ]
  },
  {
   "cell_type": "markdown",
   "id": "1a85b7c9",
   "metadata": {},
   "source": [
    "### 6. Slope Sign Changes (SSC)"
   ]
  },
  {
   "cell_type": "code",
   "execution_count": 333,
   "id": "8ea56091",
   "metadata": {},
   "outputs": [],
   "source": [
    "ssc_val = []\n",
    "for ecg in HF_AX:\n",
    "    ssc_list = []\n",
    "    for qrs in ecg[0]:    \n",
    "        ssc =  slope_sign_changes(qrs)  # 修正此处传递的参数\n",
    "        ssc_list.append(ssc)  # 修正此处添加的对象\n",
    "    ssc_val.append(np.mean(ssc_list))"
   ]
  },
  {
   "cell_type": "code",
   "execution_count": 334,
   "id": "b6a77f20",
   "metadata": {},
   "outputs": [
    {
     "data": {
      "text/plain": [
       "448"
      ]
     },
     "execution_count": 334,
     "metadata": {},
     "output_type": "execute_result"
    }
   ],
   "source": [
    "len(ssc_val)"
   ]
  },
  {
   "cell_type": "markdown",
   "id": "6852a189",
   "metadata": {},
   "source": [
    "### 7. Willison Amplitude (WAMP)"
   ]
  },
  {
   "cell_type": "code",
   "execution_count": 336,
   "id": "324a763c",
   "metadata": {},
   "outputs": [],
   "source": [
    "wamp_val = []\n",
    "for ecg in HF_AX:\n",
    "    wamp_list = []\n",
    "    for qrs in ecg[0]:    \n",
    "        wamp = willison_amplitude(qrs, threshold = None)  # 修正此处传递的参数\n",
    "        wamp_list.append(wamp)  # 修正此处添加的对象\n",
    "    wamp_val.append(np.mean(wamp_list))"
   ]
  },
  {
   "cell_type": "code",
   "execution_count": 337,
   "id": "1cd7e7dc",
   "metadata": {},
   "outputs": [
    {
     "data": {
      "text/plain": [
       "448"
      ]
     },
     "execution_count": 337,
     "metadata": {},
     "output_type": "execute_result"
    }
   ],
   "source": [
    "len(wamp_val)"
   ]
  },
  {
   "cell_type": "markdown",
   "id": "cfbeb976",
   "metadata": {},
   "source": [
    "### 8. Simple Square Integral (SSI)"
   ]
  },
  {
   "cell_type": "code",
   "execution_count": 338,
   "id": "72ad53ef",
   "metadata": {},
   "outputs": [],
   "source": [
    "ssi_val = []\n",
    "for ecg in HF_AX:\n",
    "    ssi_list = []\n",
    "    for qrs in ecg[0]:    \n",
    "        ssi = simple_square_integral(qrs)  # 修正此处传递的参数\n",
    "        ssi_list.append(ssi)  # 修正此处添加的对象\n",
    "    ssi_val.append(np.mean(ssi_list))"
   ]
  },
  {
   "cell_type": "code",
   "execution_count": 339,
   "id": "5562b298",
   "metadata": {},
   "outputs": [
    {
     "data": {
      "text/plain": [
       "448"
      ]
     },
     "execution_count": 339,
     "metadata": {},
     "output_type": "execute_result"
    }
   ],
   "source": [
    "len(ssi_val)"
   ]
  },
  {
   "cell_type": "markdown",
   "id": "533ca872",
   "metadata": {},
   "source": [
    "### 9. Standard Deviation (SD)"
   ]
  },
  {
   "cell_type": "code",
   "execution_count": 340,
   "id": "3d92b3c6",
   "metadata": {},
   "outputs": [],
   "source": [
    "sd_val = []\n",
    "for ecg in HF_AX:\n",
    "    sd_list = []\n",
    "    for qrs in ecg[0]:    \n",
    "        sd = standard_deviation(qrs)  # 修正此处传递的参数\n",
    "        sd_list.append(sd)  # 修正此处添加的对象\n",
    "    sd_val.append(np.mean(sd_list))"
   ]
  },
  {
   "cell_type": "code",
   "execution_count": 341,
   "id": "b6960aa1",
   "metadata": {},
   "outputs": [
    {
     "data": {
      "text/plain": [
       "448"
      ]
     },
     "execution_count": 341,
     "metadata": {},
     "output_type": "execute_result"
    }
   ],
   "source": [
    "len(sd_val)"
   ]
  },
  {
   "cell_type": "markdown",
   "id": "7608aa6b",
   "metadata": {},
   "source": [
    "### 10. Absolute Value Of The Summation Of Expth (ASM)"
   ]
  },
  {
   "cell_type": "code",
   "execution_count": 342,
   "id": "0399ff6b",
   "metadata": {},
   "outputs": [],
   "source": [
    "asm_val = []\n",
    "for ecg in HF_AX:\n",
    "    asm_list = []\n",
    "    for qrs in ecg[0]:    \n",
    "        asm = absolute_sum_exp(qrs)  # 修正此处传递的参数\n",
    "        asm_list.append(asm)  # 修正此处添加的对象\n",
    "    asm_val.append(np.mean(asm_list))"
   ]
  },
  {
   "cell_type": "code",
   "execution_count": 343,
   "id": "1f6d1d5a",
   "metadata": {},
   "outputs": [
    {
     "data": {
      "text/plain": [
       "448"
      ]
     },
     "execution_count": 343,
     "metadata": {},
     "output_type": "execute_result"
    }
   ],
   "source": [
    "len(asm_val)"
   ]
  },
  {
   "cell_type": "markdown",
   "id": "2c74c08f",
   "metadata": {},
   "source": [
    "### 11. Absolute Value Of The Summation Of Square Root (ASS)"
   ]
  },
  {
   "cell_type": "code",
   "execution_count": 344,
   "id": "de42cad8",
   "metadata": {},
   "outputs": [],
   "source": [
    "ass_val = []\n",
    "for ecg in HF_AX:\n",
    "    ass_list = []\n",
    "    for qrs in ecg[0]:    \n",
    "        ass = absolute_sum_sqrt(qrs)  # 修正此处传递的参数\n",
    "        ass_list.append(ass)  # 修正此处添加的对象\n",
    "    ass_val.append(np.mean(ass_list))"
   ]
  },
  {
   "cell_type": "code",
   "execution_count": 345,
   "id": "233dd783",
   "metadata": {},
   "outputs": [
    {
     "data": {
      "text/plain": [
       "448"
      ]
     },
     "execution_count": 345,
     "metadata": {},
     "output_type": "execute_result"
    }
   ],
   "source": [
    "len(ass_val)"
   ]
  },
  {
   "cell_type": "markdown",
   "id": "b95ad893",
   "metadata": {},
   "source": [
    "### 12. Cardinality (CARD)"
   ]
  },
  {
   "cell_type": "code",
   "execution_count": 346,
   "id": "b52596e1",
   "metadata": {},
   "outputs": [],
   "source": [
    "card_val = []\n",
    "for ecg in HF_AX:\n",
    "    card_list = []\n",
    "    for qrs in ecg[0]:    \n",
    "        card = cardinality(qrs)  # 修正此处传递的参数\n",
    "        card_list.append(card)  # 修正此处添加的对象\n",
    "    card_val.append(np.mean(card_list))"
   ]
  },
  {
   "cell_type": "code",
   "execution_count": 347,
   "id": "6613c290",
   "metadata": {},
   "outputs": [
    {
     "data": {
      "text/plain": [
       "448"
      ]
     },
     "execution_count": 347,
     "metadata": {},
     "output_type": "execute_result"
    }
   ],
   "source": [
    "len(card_val)"
   ]
  },
  {
   "cell_type": "markdown",
   "id": "3a3cbd8d",
   "metadata": {},
   "source": [
    "### 13. Coefficient Of Variation (COV)"
   ]
  },
  {
   "cell_type": "code",
   "execution_count": 348,
   "id": "bc08e048",
   "metadata": {},
   "outputs": [],
   "source": [
    "cov_val = []\n",
    "for ecg in HF_AX:\n",
    "    cov_list = []\n",
    "    for qrs in ecg[0]:    \n",
    "        cov = coefficient_of_variation(qrs)  # 修正此处传递的参数\n",
    "        cov_list.append(cov)  # 修正此处添加的对象\n",
    "    cov_val.append(np.mean(cov_list))"
   ]
  },
  {
   "cell_type": "code",
   "execution_count": 349,
   "id": "e2219803",
   "metadata": {},
   "outputs": [
    {
     "data": {
      "text/plain": [
       "448"
      ]
     },
     "execution_count": 349,
     "metadata": {},
     "output_type": "execute_result"
    }
   ],
   "source": [
    "len(cov_val)"
   ]
  },
  {
   "cell_type": "markdown",
   "id": "70582eac",
   "metadata": {},
   "source": [
    "### 14. Difference Absolute Mean Value (DAMV)"
   ]
  },
  {
   "cell_type": "code",
   "execution_count": 350,
   "id": "d53101e9",
   "metadata": {},
   "outputs": [],
   "source": [
    "damv_val = []\n",
    "for ecg in HF_AX:\n",
    "    damv_list = []\n",
    "    for qrs in ecg[0]:    \n",
    "        damv = difference_absolute_mean_value(qrs)  # 修正此处传递的参数\n",
    "        damv_list.append(damv)  # 修正此处添加的对象\n",
    "    damv_val.append(np.mean(damv_list))"
   ]
  },
  {
   "cell_type": "code",
   "execution_count": 351,
   "id": "d7d120b1",
   "metadata": {},
   "outputs": [
    {
     "data": {
      "text/plain": [
       "448"
      ]
     },
     "execution_count": 351,
     "metadata": {},
     "output_type": "execute_result"
    }
   ],
   "source": [
    "len(damv_val)"
   ]
  },
  {
   "cell_type": "markdown",
   "id": "332fa90e",
   "metadata": {},
   "source": [
    "### 15. Difference Absolute Standard Deviation Value (DASDV)"
   ]
  },
  {
   "cell_type": "code",
   "execution_count": 352,
   "id": "792b92c3",
   "metadata": {},
   "outputs": [],
   "source": [
    "dasdv_val = []\n",
    "for ecg in HF_AX:\n",
    "    dasdv_list = []\n",
    "    for qrs in ecg[0]:    \n",
    "        dasdv = difference_absolute_standard_deviation(qrs)  # 修正此处传递的参数\n",
    "        dasdv_list.append(dasdv)  # 修正此处添加的对象\n",
    "    dasdv_val.append(np.mean(dasdv_list))"
   ]
  },
  {
   "cell_type": "code",
   "execution_count": 353,
   "id": "c4557d1d",
   "metadata": {},
   "outputs": [
    {
     "data": {
      "text/plain": [
       "448"
      ]
     },
     "execution_count": 353,
     "metadata": {},
     "output_type": "execute_result"
    }
   ],
   "source": [
    "len(dasdv_val)"
   ]
  },
  {
   "cell_type": "markdown",
   "id": "6fb983ad",
   "metadata": {},
   "source": [
    "### 16. Difference Variance Value (DVARV)"
   ]
  },
  {
   "cell_type": "code",
   "execution_count": 354,
   "id": "8f7b4d87",
   "metadata": {},
   "outputs": [],
   "source": [
    "dvarv_val = []\n",
    "for ecg in HF_AX:\n",
    "    dvarv_list = []\n",
    "    for qrs in ecg[0]:    \n",
    "        dvarv = difference_variance_value(qrs)  # 修正此处传递的参数\n",
    "        dvarv_list.append(dvarv)  # 修正此处添加的对象\n",
    "    dvarv_val.append(np.mean(dvarv_list))"
   ]
  },
  {
   "cell_type": "code",
   "execution_count": 355,
   "id": "248b19bd",
   "metadata": {},
   "outputs": [
    {
     "data": {
      "text/plain": [
       "448"
      ]
     },
     "execution_count": 355,
     "metadata": {},
     "output_type": "execute_result"
    }
   ],
   "source": [
    "len(dvarv_val)"
   ]
  },
  {
   "cell_type": "markdown",
   "id": "abe54df9",
   "metadata": {},
   "source": [
    "### 17. Interquartile Range (IQR)"
   ]
  },
  {
   "cell_type": "code",
   "execution_count": 356,
   "id": "0a8cddfa",
   "metadata": {},
   "outputs": [],
   "source": [
    "iqr_val = []\n",
    "for ecg in HF_AX:\n",
    "    iqr_list = []\n",
    "    for qrs in ecg[0]:    \n",
    "        iqr = interquartile_range(qrs)  # 修正此处传递的参数\n",
    "        iqr_list.append(iqr)  # 修正此处添加的对象\n",
    "    iqr_val.append(np.mean(iqr_list))"
   ]
  },
  {
   "cell_type": "code",
   "execution_count": 357,
   "id": "1cbcb61a",
   "metadata": {},
   "outputs": [
    {
     "data": {
      "text/plain": [
       "448"
      ]
     },
     "execution_count": 357,
     "metadata": {},
     "output_type": "execute_result"
    }
   ],
   "source": [
    "len(iqr_val)"
   ]
  },
  {
   "cell_type": "markdown",
   "id": "2bd16c92",
   "metadata": {},
   "source": [
    "### 18. Kurtosis (KURT)"
   ]
  },
  {
   "cell_type": "code",
   "execution_count": 358,
   "id": "66881164",
   "metadata": {},
   "outputs": [],
   "source": [
    "kurt_val = []\n",
    "for ecg in HF_AX:\n",
    "    kurt_list = []\n",
    "    for qrs in ecg[0]:    \n",
    "        kurt = calculate_kurtosis(qrs)  # 修正此处传递的参数\n",
    "        kurt_list.append(kurt)  # 修正此处添加的对象\n",
    "    kurt_val.append(np.mean(kurt_list))"
   ]
  },
  {
   "cell_type": "code",
   "execution_count": 359,
   "id": "4f556f03",
   "metadata": {},
   "outputs": [
    {
     "data": {
      "text/plain": [
       "448"
      ]
     },
     "execution_count": 359,
     "metadata": {},
     "output_type": "execute_result"
    }
   ],
   "source": [
    "len(kurt_val)"
   ]
  },
  {
   "cell_type": "markdown",
   "id": "fca2d500",
   "metadata": {},
   "source": [
    "### 19. Log Teager Kaiser Energy Operator (LTKEO)"
   ]
  },
  {
   "cell_type": "code",
   "execution_count": 360,
   "id": "2e659bd2",
   "metadata": {},
   "outputs": [],
   "source": [
    "ltkeo_val = []\n",
    "for ecg in HF_AX:\n",
    "    ltkeo_list = []\n",
    "    for qrs in ecg[0]:    \n",
    "        ltkeo = log_teager_kaiser_energy_operator(qrs)  # 修正此处传递的参数\n",
    "        ltkeo_list.append(ltkeo)  # 修正此处添加的对象\n",
    "    ltkeo_val.append(np.mean(ltkeo_list))"
   ]
  },
  {
   "cell_type": "code",
   "execution_count": 361,
   "id": "3b02b170",
   "metadata": {},
   "outputs": [
    {
     "data": {
      "text/plain": [
       "448"
      ]
     },
     "execution_count": 361,
     "metadata": {},
     "output_type": "execute_result"
    }
   ],
   "source": [
    "len(ltkeo_val)"
   ]
  },
  {
   "cell_type": "markdown",
   "id": "f9011b69",
   "metadata": {},
   "source": [
    "### 20. Mean Absolute Deviation (MAD)"
   ]
  },
  {
   "cell_type": "code",
   "execution_count": 362,
   "id": "ee5f3412",
   "metadata": {},
   "outputs": [],
   "source": [
    "mad_val = []\n",
    "for ecg in HF_AX:\n",
    "    mad_list = []\n",
    "    for qrs in ecg[0]:    \n",
    "        mad = mean_absolute_deviation(qrs)  # 修正此处传递的参数\n",
    "        mad_list.append(mad)  # 修正此处添加的对象\n",
    "    mad_val.append(np.mean(mad_list))"
   ]
  },
  {
   "cell_type": "code",
   "execution_count": 363,
   "id": "ce83e115",
   "metadata": {},
   "outputs": [
    {
     "data": {
      "text/plain": [
       "448"
      ]
     },
     "execution_count": 363,
     "metadata": {},
     "output_type": "execute_result"
    }
   ],
   "source": [
    "len(mad_val)"
   ]
  },
  {
   "cell_type": "markdown",
   "id": "8f40f8ad",
   "metadata": {},
   "source": [
    "### 21. Skewness (SKEW)"
   ]
  },
  {
   "cell_type": "code",
   "execution_count": 364,
   "id": "801e8e92",
   "metadata": {},
   "outputs": [],
   "source": [
    "skew_val = []\n",
    "for ecg in HF_AX:\n",
    "    skew_list = []\n",
    "    for qrs in ecg[0]:    \n",
    "        skew1 = calculate_skewness(qrs)  \n",
    "        skew_list.append(skew1)  \n",
    "    skew_val.append(np.mean(skew_list))"
   ]
  },
  {
   "cell_type": "code",
   "execution_count": 365,
   "id": "3f1e6510",
   "metadata": {},
   "outputs": [
    {
     "data": {
      "text/plain": [
       "448"
      ]
     },
     "execution_count": 365,
     "metadata": {},
     "output_type": "execute_result"
    }
   ],
   "source": [
    "len(skew_val)"
   ]
  },
  {
   "cell_type": "markdown",
   "id": "d24de585",
   "metadata": {},
   "source": [
    "### 21. amax"
   ]
  },
  {
   "cell_type": "code",
   "execution_count": 366,
   "id": "f7bf0b27",
   "metadata": {},
   "outputs": [],
   "source": [
    "amax_val = []\n",
    "for ecg in HF_AX:\n",
    "    amax_list = []\n",
    "    for qrs in ecg[0]:    \n",
    "        amax = calculate_amax(qrs)  \n",
    "        amax_list.append(amax)  \n",
    "    amax_val.append(np.mean(amax_list))"
   ]
  },
  {
   "cell_type": "code",
   "execution_count": 367,
   "id": "89d90cd0",
   "metadata": {},
   "outputs": [
    {
     "data": {
      "text/plain": [
       "448"
      ]
     },
     "execution_count": 367,
     "metadata": {},
     "output_type": "execute_result"
    }
   ],
   "source": [
    "len(amax_val)"
   ]
  },
  {
   "cell_type": "code",
   "execution_count": null,
   "id": "400bb6c9",
   "metadata": {},
   "outputs": [],
   "source": []
  },
  {
   "cell_type": "markdown",
   "id": "44835a54",
   "metadata": {},
   "source": [
    "## 经典频域特征提取"
   ]
  },
  {
   "cell_type": "code",
   "execution_count": 130,
   "id": "053c870c",
   "metadata": {},
   "outputs": [],
   "source": [
    "sampling_rate = 1000"
   ]
  },
  {
   "cell_type": "markdown",
   "id": "2ddfd962",
   "metadata": {},
   "source": [
    "### 频谱峰值频率 (Peak Frequency)"
   ]
  },
  {
   "cell_type": "code",
   "execution_count": 368,
   "id": "10cf9a06",
   "metadata": {},
   "outputs": [],
   "source": [
    "pf_val = []\n",
    "for ecg in HF_AX:\n",
    "    pf_list = []\n",
    "    for qrs in ecg[0]:    \n",
    "        pf = peak_frequency(qrs, sampling_rate)\n",
    "        pf_list.append(pf)  \n",
    "    pf_val.append(np.mean(pf_list))"
   ]
  },
  {
   "cell_type": "code",
   "execution_count": 369,
   "id": "b0a585cc",
   "metadata": {},
   "outputs": [
    {
     "data": {
      "text/plain": [
       "448"
      ]
     },
     "execution_count": 369,
     "metadata": {},
     "output_type": "execute_result"
    }
   ],
   "source": [
    "len(pf_val)"
   ]
  },
  {
   "cell_type": "markdown",
   "id": "2d1b193a",
   "metadata": {},
   "source": [
    "### 频谱带宽 (Bandwidth)"
   ]
  },
  {
   "cell_type": "code",
   "execution_count": 370,
   "id": "8f75258e",
   "metadata": {},
   "outputs": [],
   "source": [
    "band_val = []\n",
    "for ecg in HF_AX:\n",
    "    band_list = []\n",
    "    for qrs in ecg[0]:    \n",
    "        band = bandwidth(qrs, sampling_rate)\n",
    "        band_list.append(band)  \n",
    "    band_val.append(np.mean(band_list))"
   ]
  },
  {
   "cell_type": "code",
   "execution_count": 371,
   "id": "631ccd74",
   "metadata": {},
   "outputs": [
    {
     "data": {
      "text/plain": [
       "448"
      ]
     },
     "execution_count": 371,
     "metadata": {},
     "output_type": "execute_result"
    }
   ],
   "source": [
    "len(band_val)"
   ]
  },
  {
   "cell_type": "markdown",
   "id": "3c93295a",
   "metadata": {},
   "source": [
    "### 频谱能量 (Spectral Energy)"
   ]
  },
  {
   "cell_type": "code",
   "execution_count": 372,
   "id": "709a7e37",
   "metadata": {},
   "outputs": [],
   "source": [
    "se_val = []\n",
    "for ecg in HF_AX:\n",
    "    se_list = []\n",
    "    for qrs in ecg[0]:    \n",
    "        se = spectral_energy(qrs, sampling_rate)\n",
    "        se_list.append(se)  \n",
    "    se_val.append(np.mean(se_list))"
   ]
  },
  {
   "cell_type": "code",
   "execution_count": 373,
   "id": "bd5b807f",
   "metadata": {},
   "outputs": [
    {
     "data": {
      "text/plain": [
       "448"
      ]
     },
     "execution_count": 373,
     "metadata": {},
     "output_type": "execute_result"
    }
   ],
   "source": [
    "len(se_val)"
   ]
  },
  {
   "cell_type": "markdown",
   "id": "13981151",
   "metadata": {},
   "source": [
    "## 经典非线性特征提取"
   ]
  },
  {
   "cell_type": "markdown",
   "id": "cfd67196",
   "metadata": {},
   "source": [
    "### 样本熵（Sample Entropy）"
   ]
  },
  {
   "cell_type": "code",
   "execution_count": 376,
   "id": "fff3f6f0",
   "metadata": {
    "scrolled": true
   },
   "outputs": [
    {
     "name": "stdout",
     "output_type": "stream",
     "text": [
      "0\n",
      "1\n",
      "2\n",
      "3\n",
      "4\n",
      "5\n",
      "6\n",
      "7\n",
      "8\n",
      "9\n",
      "10\n",
      "11\n",
      "12\n",
      "13\n",
      "14\n",
      "15\n",
      "16\n",
      "17\n",
      "18\n",
      "19\n",
      "20\n",
      "21\n",
      "22\n",
      "23\n",
      "24\n",
      "25\n",
      "26\n",
      "27\n",
      "28\n",
      "29\n",
      "30\n",
      "31\n",
      "32\n",
      "33\n",
      "34\n",
      "35\n",
      "36\n",
      "37\n",
      "38\n",
      "39\n",
      "40\n",
      "41\n",
      "42\n",
      "43\n",
      "44\n",
      "45\n",
      "46\n",
      "47\n",
      "48\n",
      "49\n",
      "50\n",
      "51\n",
      "52\n",
      "53\n",
      "54\n",
      "55\n",
      "56\n",
      "57\n",
      "58\n",
      "59\n",
      "60\n",
      "61\n",
      "62\n",
      "63\n",
      "64\n",
      "65\n",
      "66\n",
      "67\n",
      "68\n",
      "69\n",
      "70\n",
      "71\n",
      "72\n",
      "73\n",
      "74\n",
      "75\n",
      "76\n",
      "77\n",
      "78\n",
      "79\n",
      "80\n",
      "81\n",
      "82\n",
      "83\n",
      "84\n",
      "85\n",
      "86\n",
      "87\n",
      "88\n",
      "89\n",
      "90\n",
      "91\n",
      "92\n",
      "93\n",
      "94\n",
      "95\n",
      "96\n",
      "97\n",
      "98\n",
      "99\n",
      "100\n",
      "101\n",
      "102\n",
      "103\n",
      "104\n",
      "105\n",
      "106\n",
      "107\n",
      "108\n",
      "109\n",
      "110\n",
      "111\n",
      "112\n",
      "113\n",
      "114\n",
      "115\n",
      "116\n",
      "117\n",
      "118\n",
      "119\n",
      "120\n",
      "121\n",
      "122\n",
      "123\n",
      "124\n",
      "125\n",
      "126\n",
      "127\n",
      "128\n",
      "129\n",
      "130\n",
      "131\n",
      "132\n",
      "133\n",
      "134\n",
      "135\n",
      "136\n",
      "137\n",
      "138\n",
      "139\n",
      "140\n",
      "141\n",
      "142\n",
      "143\n",
      "144\n",
      "145\n",
      "146\n",
      "147\n",
      "148\n",
      "149\n",
      "150\n",
      "151\n",
      "152\n",
      "153\n",
      "154\n",
      "155\n",
      "156\n",
      "157\n",
      "158\n",
      "159\n",
      "160\n",
      "161\n",
      "162\n",
      "163\n",
      "164\n",
      "165\n",
      "166\n",
      "167\n",
      "168\n",
      "169\n",
      "170\n",
      "171\n",
      "172\n",
      "173\n",
      "174\n",
      "175\n",
      "176\n",
      "177\n",
      "178\n",
      "179\n",
      "180\n",
      "181\n",
      "182\n",
      "183\n",
      "184\n",
      "185\n",
      "186\n",
      "187\n",
      "188\n",
      "189\n",
      "190\n",
      "191\n",
      "192\n",
      "193\n",
      "194\n",
      "195\n",
      "196\n",
      "197\n",
      "198\n",
      "199\n",
      "200\n",
      "201\n",
      "202\n",
      "203\n",
      "204\n",
      "205\n",
      "206\n",
      "207\n",
      "208\n",
      "209\n",
      "210\n",
      "211\n",
      "212\n",
      "213\n",
      "214\n",
      "215\n",
      "216\n",
      "217\n",
      "218\n",
      "219\n",
      "220\n",
      "221\n",
      "222\n",
      "223\n",
      "224\n",
      "225\n",
      "226\n",
      "227\n",
      "228\n",
      "229\n",
      "230\n",
      "231\n",
      "232\n",
      "233\n",
      "234\n",
      "235\n",
      "236\n",
      "237\n",
      "238\n",
      "239\n",
      "240\n",
      "241\n",
      "242\n",
      "243\n",
      "244\n",
      "245\n",
      "246\n",
      "247\n",
      "248\n",
      "249\n",
      "250\n",
      "251\n",
      "252\n",
      "253\n",
      "254\n",
      "255\n",
      "256\n",
      "257\n",
      "258\n",
      "259\n",
      "260\n",
      "261\n",
      "262\n",
      "263\n",
      "264\n",
      "265\n",
      "266\n",
      "267\n",
      "268\n",
      "269\n",
      "270\n",
      "271\n",
      "272\n",
      "273\n",
      "274\n",
      "275\n",
      "276\n",
      "277\n",
      "278\n",
      "279\n",
      "280\n",
      "281\n",
      "282\n",
      "283\n",
      "284\n",
      "285\n",
      "286\n",
      "287\n",
      "288\n",
      "289\n",
      "290\n",
      "291\n",
      "292\n",
      "293\n",
      "294\n",
      "295\n",
      "296\n",
      "297\n",
      "298\n",
      "299\n",
      "300\n",
      "301\n",
      "302\n",
      "303\n",
      "304\n",
      "305\n",
      "306\n",
      "307\n",
      "308\n",
      "309\n",
      "310\n",
      "311\n",
      "312\n",
      "313\n",
      "314\n",
      "315\n",
      "316\n",
      "317\n",
      "318\n",
      "319\n",
      "320\n",
      "321\n",
      "322\n",
      "323\n",
      "324\n",
      "325\n",
      "326\n",
      "327\n",
      "328\n",
      "329\n",
      "330\n",
      "331\n",
      "332\n",
      "333\n",
      "334\n",
      "335\n",
      "336\n",
      "337\n",
      "338\n",
      "339\n",
      "340\n",
      "341\n",
      "342\n",
      "343\n",
      "344\n",
      "345\n",
      "346\n",
      "347\n",
      "348\n",
      "349\n",
      "350\n",
      "351\n",
      "352\n",
      "353\n",
      "354\n",
      "355\n",
      "356\n",
      "357\n",
      "358\n",
      "359\n",
      "360\n",
      "361\n",
      "362\n",
      "363\n",
      "364\n",
      "365\n",
      "366\n",
      "367\n",
      "368\n",
      "369\n",
      "370\n",
      "371\n",
      "372\n",
      "373\n",
      "374\n",
      "375\n",
      "376\n",
      "377\n",
      "378\n",
      "379\n",
      "380\n",
      "381\n",
      "382\n",
      "383\n",
      "384\n",
      "385\n",
      "386\n",
      "387\n",
      "388\n",
      "389\n",
      "390\n",
      "391\n",
      "392\n",
      "393\n",
      "394\n",
      "395\n",
      "396\n",
      "397\n",
      "398\n",
      "399\n",
      "400\n",
      "401\n",
      "402\n",
      "403\n",
      "404\n",
      "405\n",
      "406\n",
      "407\n",
      "408\n",
      "409\n",
      "410\n",
      "411\n",
      "412\n",
      "413\n",
      "414\n",
      "415\n",
      "416\n",
      "417\n",
      "418\n",
      "419\n",
      "420\n",
      "421\n",
      "422\n",
      "423\n",
      "424\n",
      "425\n",
      "426\n",
      "427\n",
      "428\n",
      "429\n",
      "430\n",
      "431\n",
      "432\n",
      "433\n",
      "434\n",
      "435\n",
      "436\n",
      "437\n",
      "438\n",
      "439\n",
      "440\n",
      "441\n",
      "442\n",
      "443\n",
      "444\n",
      "445\n",
      "446\n",
      "447\n"
     ]
    }
   ],
   "source": [
    "sampe_val = []\n",
    "j = 0\n",
    "for ecg in HF_AX:\n",
    "    print(j)\n",
    "    j += 1\n",
    "    sampe_list = []\n",
    "    for qrs in ecg[0]:    \n",
    "        sampe = sample_entropy(qrs, m=2, r=None)\n",
    "        sampe_list.append(sampe)  \n",
    "    sampe_val.append(np.mean(sampe_list))"
   ]
  },
  {
   "cell_type": "code",
   "execution_count": 377,
   "id": "9dcd69a9",
   "metadata": {},
   "outputs": [],
   "source": [
    "# 将列表转换为 DataFrame\n",
    "sampe_val_df = pd.DataFrame(sampe_val)\n",
    "\n",
    "# 将 DataFrame 写入 CSV 文件\n",
    "sampe_val_df.to_csv('sampe_val_2.csv', index=False)"
   ]
  },
  {
   "cell_type": "markdown",
   "id": "76c42538",
   "metadata": {},
   "source": [
    "### 近似熵（Approximate Entropy）"
   ]
  },
  {
   "cell_type": "code",
   "execution_count": 303,
   "id": "bcec5e9e",
   "metadata": {},
   "outputs": [
    {
     "name": "stdout",
     "output_type": "stream",
     "text": [
      "0\n",
      "1\n",
      "2\n",
      "3\n",
      "4\n",
      "5\n",
      "6\n",
      "7\n",
      "8\n",
      "9\n",
      "10\n",
      "11\n",
      "12\n",
      "13\n",
      "14\n",
      "15\n",
      "16\n",
      "17\n",
      "18\n",
      "19\n",
      "20\n",
      "21\n",
      "22\n",
      "23\n",
      "24\n",
      "25\n",
      "26\n",
      "27\n",
      "28\n",
      "29\n",
      "30\n",
      "31\n",
      "32\n",
      "33\n",
      "34\n",
      "35\n",
      "36\n",
      "37\n",
      "38\n",
      "39\n",
      "40\n",
      "41\n",
      "42\n",
      "43\n",
      "44\n",
      "45\n",
      "46\n",
      "47\n",
      "48\n",
      "49\n",
      "50\n",
      "51\n",
      "52\n",
      "53\n",
      "54\n",
      "55\n",
      "56\n",
      "57\n",
      "58\n",
      "59\n",
      "60\n",
      "61\n",
      "62\n",
      "63\n",
      "64\n",
      "65\n",
      "66\n",
      "67\n",
      "68\n",
      "69\n",
      "70\n",
      "71\n",
      "72\n",
      "73\n",
      "74\n",
      "75\n",
      "76\n",
      "77\n",
      "78\n",
      "79\n",
      "80\n",
      "81\n",
      "82\n",
      "83\n",
      "84\n",
      "85\n",
      "86\n",
      "87\n",
      "88\n",
      "89\n",
      "90\n",
      "91\n",
      "92\n",
      "93\n",
      "94\n",
      "95\n",
      "96\n",
      "97\n",
      "98\n",
      "99\n",
      "100\n",
      "101\n",
      "102\n",
      "103\n",
      "104\n",
      "105\n",
      "106\n",
      "107\n",
      "108\n",
      "109\n",
      "110\n",
      "111\n",
      "112\n",
      "113\n",
      "114\n",
      "115\n",
      "116\n",
      "117\n",
      "118\n",
      "119\n",
      "120\n",
      "121\n",
      "122\n",
      "123\n",
      "124\n",
      "125\n",
      "126\n",
      "127\n",
      "128\n",
      "129\n",
      "130\n",
      "131\n",
      "132\n",
      "133\n",
      "134\n",
      "135\n",
      "136\n",
      "137\n",
      "138\n",
      "139\n",
      "140\n",
      "141\n",
      "142\n",
      "143\n",
      "144\n",
      "145\n",
      "146\n",
      "147\n",
      "148\n",
      "149\n",
      "150\n",
      "151\n",
      "152\n",
      "153\n",
      "154\n",
      "155\n",
      "156\n",
      "157\n",
      "158\n",
      "159\n",
      "160\n",
      "161\n",
      "162\n",
      "163\n",
      "164\n",
      "165\n",
      "166\n",
      "167\n",
      "168\n",
      "169\n",
      "170\n",
      "171\n",
      "172\n",
      "173\n",
      "174\n",
      "175\n",
      "176\n",
      "177\n",
      "178\n",
      "179\n",
      "180\n",
      "181\n",
      "182\n",
      "183\n",
      "184\n",
      "185\n",
      "186\n",
      "187\n",
      "188\n",
      "189\n",
      "190\n",
      "191\n",
      "192\n",
      "193\n",
      "194\n",
      "195\n",
      "196\n",
      "197\n",
      "198\n",
      "199\n",
      "200\n",
      "201\n",
      "202\n",
      "203\n",
      "204\n",
      "205\n",
      "206\n",
      "207\n",
      "208\n",
      "209\n",
      "210\n",
      "211\n",
      "212\n",
      "213\n",
      "214\n",
      "215\n",
      "216\n",
      "217\n",
      "218\n",
      "219\n",
      "220\n",
      "221\n",
      "222\n",
      "223\n",
      "224\n",
      "225\n",
      "226\n",
      "227\n",
      "228\n",
      "229\n",
      "230\n",
      "231\n",
      "232\n",
      "233\n",
      "234\n",
      "235\n",
      "236\n",
      "237\n",
      "238\n",
      "239\n",
      "240\n",
      "241\n",
      "242\n",
      "243\n",
      "244\n",
      "245\n",
      "246\n",
      "247\n",
      "248\n",
      "249\n",
      "250\n",
      "251\n",
      "252\n",
      "253\n",
      "254\n",
      "255\n",
      "256\n",
      "257\n",
      "258\n",
      "259\n",
      "260\n",
      "261\n",
      "262\n",
      "263\n",
      "264\n",
      "265\n",
      "266\n",
      "267\n",
      "268\n",
      "269\n",
      "270\n",
      "271\n",
      "272\n",
      "273\n",
      "274\n",
      "275\n",
      "276\n",
      "277\n",
      "278\n",
      "279\n",
      "280\n",
      "281\n",
      "282\n",
      "283\n",
      "284\n",
      "285\n",
      "286\n",
      "287\n",
      "288\n",
      "289\n",
      "290\n",
      "291\n",
      "292\n",
      "293\n",
      "294\n",
      "295\n",
      "296\n",
      "297\n",
      "298\n",
      "299\n",
      "300\n",
      "301\n",
      "302\n",
      "303\n",
      "304\n",
      "305\n",
      "306\n",
      "307\n",
      "308\n",
      "309\n",
      "310\n",
      "311\n",
      "312\n",
      "313\n",
      "314\n",
      "315\n",
      "316\n",
      "317\n",
      "318\n",
      "319\n",
      "320\n",
      "321\n",
      "322\n",
      "323\n",
      "324\n",
      "325\n",
      "326\n",
      "327\n",
      "328\n",
      "329\n",
      "330\n",
      "331\n",
      "332\n",
      "333\n",
      "334\n",
      "335\n",
      "336\n",
      "337\n",
      "338\n",
      "339\n",
      "340\n",
      "341\n",
      "342\n",
      "343\n",
      "344\n",
      "345\n",
      "346\n",
      "347\n",
      "348\n",
      "349\n",
      "350\n",
      "351\n",
      "352\n",
      "353\n",
      "354\n",
      "355\n",
      "356\n",
      "357\n",
      "358\n",
      "359\n",
      "360\n",
      "361\n",
      "362\n",
      "363\n",
      "364\n",
      "365\n",
      "366\n",
      "367\n",
      "368\n",
      "369\n",
      "370\n",
      "371\n",
      "372\n",
      "373\n",
      "374\n",
      "375\n",
      "376\n",
      "377\n",
      "378\n",
      "379\n",
      "380\n",
      "381\n",
      "382\n",
      "383\n",
      "384\n",
      "385\n",
      "386\n",
      "387\n",
      "388\n",
      "389\n",
      "390\n",
      "391\n",
      "392\n",
      "393\n",
      "394\n",
      "395\n",
      "396\n",
      "397\n",
      "398\n",
      "399\n",
      "400\n",
      "401\n",
      "402\n",
      "403\n",
      "404\n",
      "405\n",
      "406\n",
      "407\n",
      "408\n",
      "409\n",
      "410\n",
      "411\n",
      "412\n",
      "413\n",
      "414\n",
      "415\n",
      "416\n",
      "417\n",
      "418\n",
      "419\n",
      "420\n",
      "421\n",
      "422\n",
      "423\n",
      "424\n",
      "425\n",
      "426\n",
      "427\n",
      "428\n",
      "429\n",
      "430\n",
      "431\n",
      "432\n",
      "433\n",
      "434\n",
      "435\n",
      "436\n",
      "437\n",
      "438\n",
      "439\n",
      "440\n",
      "441\n",
      "442\n",
      "443\n"
     ]
    },
    {
     "name": "stderr",
     "output_type": "stream",
     "text": [
      "C:\\Users\\sjq397\\AppData\\Local\\Temp\\ipykernel_15228\\501974719.py:51: RuntimeWarning: invalid value encountered in log\n",
      "  return -np.log(_phi(m+1) / _phi(m))\n"
     ]
    },
    {
     "name": "stdout",
     "output_type": "stream",
     "text": [
      "444\n",
      "445\n",
      "446\n",
      "447\n"
     ]
    }
   ],
   "source": [
    "ape_val = []\n",
    "j = 0\n",
    "for ecg in HF_AX:\n",
    "    print(j)\n",
    "    j += 1\n",
    "    ape_list = []\n",
    "    for qrs in ecg[0]:    \n",
    "        ape = approximate_entropy(qrs, m=2, r=None)\n",
    "        ape_list.append(ape)  \n",
    "    ape_val.append(np.mean(ape_list))"
   ]
  },
  {
   "cell_type": "code",
   "execution_count": 309,
   "id": "711e42b6",
   "metadata": {},
   "outputs": [],
   "source": [
    "# 将列表转换为 DataFrame\n",
    "ape_val_df = pd.DataFrame( ape_val)\n",
    "\n",
    "# 将 DataFrame 写入 CSV 文件\n",
    "ape_val_df.to_csv(' ape_val_2.csv', index=False)"
   ]
  },
  {
   "cell_type": "markdown",
   "id": "6339f17d",
   "metadata": {},
   "source": [
    "### 排列熵（Permutation Entropy）"
   ]
  },
  {
   "cell_type": "code",
   "execution_count": null,
   "id": "59e0763b",
   "metadata": {},
   "outputs": [],
   "source": [
    "pere_val = []\n",
    "for ecg in HF_AX:\n",
    "    pere_list = []\n",
    "    for qrs in ecg[0]:    \n",
    "        pere = permutation_entropy(qrs, m=2)\n",
    "        pere_list.append(pere)  \n",
    "    pere_val.append(np.mean(pere_list))"
   ]
  },
  {
   "cell_type": "markdown",
   "id": "1e6246f0",
   "metadata": {},
   "source": [
    "### 模糊熵（Fuzzy Entropy）"
   ]
  },
  {
   "cell_type": "code",
   "execution_count": null,
   "id": "3f29d39c",
   "metadata": {},
   "outputs": [],
   "source": [
    "fue_val = []\n",
    "for ecg in HF_AX:\n",
    "    fue_list = []\n",
    "    for qrs in ecg[0]:    \n",
    "        fue = fuzzy_entropy(qrs, m=2, r=None)\n",
    "        fue_list.append(fue)  \n",
    "    fue_val.append(np.mean(fue_list))"
   ]
  },
  {
   "cell_type": "code",
   "execution_count": null,
   "id": "09d608ea",
   "metadata": {},
   "outputs": [],
   "source": [
    " "
   ]
  },
  {
   "cell_type": "markdown",
   "id": "37856e5c",
   "metadata": {},
   "source": [
    "## PMI and HFMI"
   ]
  },
  {
   "cell_type": "code",
   "execution_count": 169,
   "id": "ce108d42",
   "metadata": {},
   "outputs": [],
   "source": [
    "def find_p2(signal):\n",
    "    # 找到信号的极大值的索引\n",
    "    maxima_indices = argrelextrema(signal, np.greater)[0]\n",
    "    Amax_index = np.argmax(signal)\n",
    "    Amax_value = signal[Amax_index]\n",
    "    # 存储满足条件的特殊极大值\n",
    "    special_maxima = []\n",
    "\n",
    "    # 遍历所有极大值\n",
    "    for i in range(3, len(maxima_indices) - 3):\n",
    "        current_maxima = signal[maxima_indices[i]]\n",
    "        previous_maxima_values = signal[maxima_indices[i-3:i]]\n",
    "        next_maxima_values = signal[maxima_indices[i+1:i+4]]\n",
    "\n",
    "        # 检查是否满足条件\n",
    "        if current_maxima > np.max(previous_maxima_values) and current_maxima > np.max(next_maxima_values):\n",
    "            if maxima_indices[i]>Amax_index:\n",
    "                special_maxima.append((maxima_indices[i], current_maxima))\n",
    "    if not special_maxima:\n",
    "        return 0  # 或者其他适当的返回值\n",
    "    return special_maxima[0]\n",
    "\n",
    "def find_RAZ(signal):\n",
    "    # 找到信号的极大值的索引\n",
    "    maxima_indices = argrelextrema(signal, np.greater)[0]\n",
    "    Amax_index = np.argmax(signal)\n",
    "    Amax_value = signal[Amax_index]\n",
    "\n",
    "    # 把区间控制在P1，P2之间\n",
    "    p1p2_part_indexes = []\n",
    "    p2 = find_p2(signal)\n",
    "    for i in maxima_indices:\n",
    "        if i > Amax_index and i < p2[0]:\n",
    "            p1p2_part_indexes.append(i)    \n",
    "    v_index = np.argmin(signal[p1p2_part_indexes])\n",
    "    v_index = p1p2_part_indexes[v_index]\n",
    "    v_value = signal[v_index]\n",
    "\n",
    "    return v_index,v_value\n",
    "\n",
    "def get_pmi(signal):\n",
    "    p2 = find_p2(signal)\n",
    "    if p2:\n",
    "        v = find_RAZ(signal)\n",
    "        Amax_index = np.argmax(signal)\n",
    "        Amax_value = signal[Amax_index]\n",
    "#         print(Amax_value)\n",
    "#         print(p2[1])\n",
    "#         print(v[1])\n",
    "        pmi_value = min(np.abs(Amax_value-v[1]), np.abs(p2[1]-v[1]))/ max(np.abs(Amax_value-v[1]), np.abs(p2[1]-v[1]))\n",
    "\n",
    "    if not p2:\n",
    "        pmi_value = 0\n",
    "    return pmi_value\n",
    "\n",
    "def get_hfmi(signal):\n",
    "    p2 = find_p2(signal)\n",
    "    if not p2:\n",
    "        return 0\n",
    "\n",
    "    # 连接极大值点\n",
    "    maxima_indices = argrelextrema(signal,np.greater)[0]\n",
    "    maxima_values = signal[maxima_indices]\n",
    "    # 计算面积\n",
    "    s_hfqrs = np.trapz(maxima_values, x=maxima_indices)\n",
    "    Amax_index = np.argmax(signal)\n",
    "    Amax_value = signal[Amax_index]\n",
    "    # 连接p1、p2 记l\n",
    "    line_x = np.array([Amax_index, p2[0]])\n",
    "    line_y = np.array([Amax_value, p2[1]])\n",
    "    # 计算直线 l 与 x 轴之间的面积\n",
    "    line_area = np.trapz(line_y, x=line_x)\n",
    "\n",
    "    # 连接p1、p2内所有极大值点（含p1、p2）\n",
    "    p1p2_part_indexes_bi = []\n",
    "    for i in maxima_indices:\n",
    "        if((i > Amax_index) or (i == Amax_index))and ((i < p2[0]) or (i == p2[0])):\n",
    "            p1p2_part_indexes_bi.append(i)\n",
    "    p1p2_part_indexes_bi\n",
    "    p1p2_part_value_bi = signal[p1p2_part_indexes_bi]\n",
    "    # 计算总面积\n",
    "    total_area = np.trapz(p1p2_part_value_bi, x=p1p2_part_indexes_bi)\n",
    "\n",
    "    # 计算所求面积\n",
    "    s_raz = line_area-total_area \n",
    "    hfmi = s_raz/s_hfqrs\n",
    "    return hfmi"
   ]
  },
  {
   "cell_type": "markdown",
   "id": "a094fc5c",
   "metadata": {},
   "source": [
    "### PMI"
   ]
  },
  {
   "cell_type": "code",
   "execution_count": 374,
   "id": "18637339",
   "metadata": {},
   "outputs": [],
   "source": [
    "pmi_val = []\n",
    "for ecg in HF_AX:\n",
    "    pmi_list = []\n",
    "    for qrs in ecg[0]:    \n",
    "        pmi = get_pmi(qrs)\n",
    "        pmi_list.append(pmi)  \n",
    "    pmi_val.append(np.mean(pmi_list))"
   ]
  },
  {
   "cell_type": "code",
   "execution_count": 179,
   "id": "e99a117e",
   "metadata": {},
   "outputs": [
    {
     "data": {
      "text/plain": [
       "448"
      ]
     },
     "execution_count": 179,
     "metadata": {},
     "output_type": "execute_result"
    }
   ],
   "source": []
  },
  {
   "cell_type": "markdown",
   "id": "a20009ab",
   "metadata": {},
   "source": [
    "### HFMI"
   ]
  },
  {
   "cell_type": "code",
   "execution_count": 375,
   "id": "e9cef600",
   "metadata": {},
   "outputs": [],
   "source": [
    "hfmi_val = []\n",
    "for ecg in HF_AX:\n",
    "    hfmi_list = []\n",
    "    for qrs in ecg[0]:    \n",
    "        hfmi = get_hfmi(qrs)\n",
    "        hfmi_list.append(hfmi)  \n",
    "    hfmi_val.append(np.mean(hfmi_list))"
   ]
  },
  {
   "cell_type": "code",
   "execution_count": 268,
   "id": "5fe549d1",
   "metadata": {},
   "outputs": [
    {
     "name": "stdout",
     "output_type": "stream",
     "text": [
      "(448,)\n",
      "(448,)\n",
      "(448,)\n",
      "(448,)\n",
      "(448,)\n",
      "(448,)\n",
      "(448,)\n",
      "(448,)\n",
      "(448,)\n",
      "(448,)\n",
      "(448,)\n",
      "(448,)\n",
      "(448,)\n",
      "(448,)\n",
      "(448,)\n",
      "(448,)\n",
      "(448,)\n",
      "(448,)\n",
      "(448,)\n",
      "(448,)\n",
      "(448,)\n",
      "(448,)\n",
      "(448,)\n",
      "(448,)\n",
      "(448,)\n",
      "(448,)\n",
      "(448,)\n"
     ]
    }
   ],
   "source": [
    "features = [mav_val, rms_val, var_val, wl_val, zc_val, ssc_val, wamp_val, ssi_val, \n",
    "                sd_val, asm_val, ass_val, card_val, cov_val, \n",
    "                damv_val, dasdv_val, dvarv_val, iqr_val, kurt_val, ltkeo_val,\n",
    "                mad_val, skew_val, amax_val, pf_val, band_val, se_val, pmi_val, hfmi_val]\n",
    "\n",
    "# 遍历每个特征值并展平\n",
    "for i in range(len(features)):\n",
    "    features[i] = np.array(features[i])\n",
    "    print(features[i].shape)\n",
    "\n"
   ]
  },
  {
   "cell_type": "code",
   "execution_count": 266,
   "id": "17529081",
   "metadata": {},
   "outputs": [
    {
     "data": {
      "text/plain": [
       "(448,)"
      ]
     },
     "execution_count": 266,
     "metadata": {},
     "output_type": "execute_result"
    }
   ],
   "source": [
    "features[0].shape"
   ]
  },
  {
   "cell_type": "code",
   "execution_count": null,
   "id": "d4e6b0ba",
   "metadata": {},
   "outputs": [],
   "source": []
  },
  {
   "cell_type": "code",
   "execution_count": 379,
   "id": "4f7dbf40",
   "metadata": {},
   "outputs": [],
   "source": [
    "# 将特征名称中包含逗号的部分分割成单独的特征\n",
    "feature_names = [\"MAV\", \"RMS\", \"VAR\", \"WL\", \"ZC\", \"SSC\", \"WAMP\", \"SSI\",\n",
    "                \"SD\", \"ASM\", \"ASS\", \"CARD\", \"COV\", \"DAMV\", \"DASDV\", \"DVARV\", \n",
    "                \"IQR\", \"KURT\", \"LTKEO\", \"MAD\", \"SKEW\", \"AMAX\", \"PF\", \"BAND\",\n",
    "                \"SE\", \"PMI\", \"HFMI\"]\n",
    "\n",
    "# 创建包含特征值的列表\n",
    "features_val = [mav_val, rms_val, var_val, wl_val, zc_val, ssc_val, wamp_val, ssi_val, \n",
    "                sd_val, asm_val, ass_val, card_val, cov_val, \n",
    "                damv_val, dasdv_val, dvarv_val, iqr_val, kurt_val, ltkeo_val,\n",
    "                mad_val, skew_val, amax_val, pf_val, band_val, se_val, pmi_val, hfmi_val]\n",
    "\n",
    "# 将特征值列表转换为 numpy 数组并展平\n",
    "features_array = np.array([np.array(feature).flatten() for feature in features_val])\n",
    "\n",
    "# 创建 DataFrame\n",
    "df = pd.DataFrame(features_array.T, columns=feature_names)"
   ]
  },
  {
   "cell_type": "code",
   "execution_count": 380,
   "id": "2bd499e5",
   "metadata": {},
   "outputs": [],
   "source": [
    "df.to_csv('df_3.csv', index=True)"
   ]
  },
  {
   "cell_type": "markdown",
   "id": "7bd96b33",
   "metadata": {},
   "source": [
    "## 模型训练"
   ]
  },
  {
   "cell_type": "code",
   "execution_count": 294,
   "id": "90fd5a8e",
   "metadata": {},
   "outputs": [
    {
     "data": {
      "text/plain": [
       "0.9999988271425758"
      ]
     },
     "execution_count": 294,
     "metadata": {},
     "output_type": "execute_result"
    }
   ],
   "source": [
    "from sklearn.decomposition import PCA\n",
    "pca_model = PCA(n_components=5)\n",
    "pca_model.fit(df.drop('label', axis=1))\n",
    "X_pca = pca_model.fit_transform(df.drop('label', axis=1))\n",
    "pca_model.explained_variance_ratio_.sum()"
   ]
  },
  {
   "cell_type": "code",
   "execution_count": 295,
   "id": "fe95a80e",
   "metadata": {},
   "outputs": [
    {
     "name": "stdout",
     "output_type": "stream",
     "text": [
      "Random Forest Accuracy: 0.972972972972973\n",
      "SVM Accuracy: 0.5540540540540541\n",
      "XGBoost Accuracy: 0.9662162162162162\n"
     ]
    },
    {
     "name": "stderr",
     "output_type": "stream",
     "text": [
      "D:\\software\\anaconda\\Lib\\site-packages\\xgboost\\data.py:427: FutureWarning: is_sparse is deprecated and will be removed in a future version. Check `isinstance(dtype, pd.SparseDtype)` instead.\n",
      "  if is_sparse(data):\n"
     ]
    }
   ],
   "source": [
    "from sklearn.model_selection import train_test_split\n",
    "from sklearn.ensemble import RandomForestClassifier\n",
    "from sklearn.svm import SVC\n",
    "from xgboost import XGBClassifier\n",
    "import numpy as np\n",
    "from sklearn.ensemble import RandomForestClassifier\n",
    "from sklearn.model_selection import train_test_split\n",
    "from sklearn.metrics import accuracy_score\n",
    "from sklearn.metrics import classification_report\n",
    "from sklearn.metrics import confusion_matrix\n",
    "from sklearn.metrics import accuracy_score, f1_score, roc_auc_score\n",
    "from imblearn.over_sampling import RandomOverSampler\n",
    "from sklearn.metrics import roc_curve, auc\n",
    "ros = RandomOverSampler(sampling_strategy='minority') \n",
    "# 添加一个名为 'label' 的列，并将前80行的值设为 0，其余的设为 1\n",
    "df['label'] = 0\n",
    "df.loc[80:, 'label'] = 1\n",
    "\n",
    "# 将 'label' 列移动到数据集的第一列\n",
    "df = df[['label'] + [col for col in df.columns if col != 'label']]\n",
    "\n",
    "# 分割特征和标签\n",
    "# X = df.drop('label', axis=1)\n",
    "X = X_pca\n",
    "y = df['label']\n",
    "X_resampled, y_resampled = ros.fit_resample(X, y)\n",
    "\n",
    "# 划分训练集和测试集\n",
    "X_train, X_test, y_train, y_test = train_test_split(X_resampled, y_resampled, test_size=0.2, random_state=42)\n",
    "\n",
    "# 初始化和训练随机森林模型\n",
    "rf_model = RandomForestClassifier()\n",
    "rf_model.fit(X_train, y_train)\n",
    "\n",
    "# 初始化和训练SVM模型\n",
    "svm_model = SVC()\n",
    "svm_model.fit(X_train, y_train)\n",
    "\n",
    "# 初始化和训练XGBoost模型\n",
    "xgb_model = XGBClassifier()\n",
    "xgb_model.fit(X_train, y_train)\n",
    "\n",
    "# 在测试集上进行预测并评估性能\n",
    "rf_accuracy = rf_model.score(X_test, y_test)\n",
    "svm_accuracy = svm_model.score(X_test, y_test)\n",
    "xgb_accuracy = xgb_model.score(X_test, y_test)\n",
    "\n",
    "print(\"Random Forest Accuracy:\", rf_accuracy)\n",
    "print(\"SVM Accuracy:\", svm_accuracy)\n",
    "print(\"XGBoost Accuracy:\", xgb_accuracy)\n"
   ]
  },
  {
   "cell_type": "code",
   "execution_count": 296,
   "id": "46619bf4",
   "metadata": {},
   "outputs": [
    {
     "name": "stdout",
     "output_type": "stream",
     "text": [
      "Random Forest Accuracy: 0.972972972972973\n",
      "XGBoost Accuracy: 0.9662162162162162\n",
      "Random Forest Sensitivity: 0.9466666666666667\n",
      "Random Forest Specificity: 1.0\n",
      "XGBoost Sensitivity: 0.9466666666666667\n",
      "XGBoost Specificity: 0.9863013698630136\n"
     ]
    },
    {
     "data": {
      "image/png": "[encoded data removed]",
      "text/plain": [
       "<Figure size 800x600 with 1 Axes>"
      ]
     },
     "metadata": {},
     "output_type": "display_data"
    }
   ],
   "source": [
    "from sklearn.metrics import accuracy_score, confusion_matrix, roc_curve, auc\n",
    "import matplotlib.pyplot as plt\n",
    "\n",
    "# 在测试集上进行预测\n",
    "rf_pred = rf_model.predict(X_test)\n",
    "xgb_pred = xgb_model.predict(X_test)\n",
    "\n",
    "# 计算准确度\n",
    "rf_accuracy = accuracy_score(y_test, rf_pred)\n",
    "xgb_accuracy = accuracy_score(y_test, xgb_pred)\n",
    "\n",
    "print(\"Random Forest Accuracy:\", rf_accuracy)\n",
    "print(\"XGBoost Accuracy:\", xgb_accuracy)\n",
    "\n",
    "# 计算混淆矩阵\n",
    "rf_cm = confusion_matrix(y_test, rf_pred)\n",
    "xgb_cm = confusion_matrix(y_test, xgb_pred)\n",
    "\n",
    "# 计算敏感度和特异性\n",
    "rf_sensitivity = rf_cm[1, 1] / (rf_cm[1, 0] + rf_cm[1, 1])\n",
    "rf_specificity = rf_cm[0, 0] / (rf_cm[0, 0] + rf_cm[0, 1])\n",
    "\n",
    "xgb_sensitivity = xgb_cm[1, 1] / (xgb_cm[1, 0] + xgb_cm[1, 1])\n",
    "xgb_specificity = xgb_cm[0, 0] / (xgb_cm[0, 0] + xgb_cm[0, 1])\n",
    "\n",
    "print(\"Random Forest Sensitivity:\", rf_sensitivity)\n",
    "print(\"Random Forest Specificity:\", rf_specificity)\n",
    "\n",
    "\n",
    "print(\"XGBoost Sensitivity:\", xgb_sensitivity)\n",
    "print(\"XGBoost Specificity:\", xgb_specificity)\n",
    "\n",
    "# 计算 ROC 曲线\n",
    "rf_pred_prob = rf_model.predict_proba(X_test)[:, 1]\n",
    "xgb_pred_prob = xgb_model.predict_proba(X_test)[:, 1]\n",
    "\n",
    "rf_fpr, rf_tpr, _ = roc_curve(y_test, rf_pred_prob)\n",
    "xgb_fpr, xgb_tpr, _ = roc_curve(y_test, xgb_pred_prob)\n",
    "\n",
    "# 计算 AUC\n",
    "rf_auc = auc(rf_fpr, rf_tpr)\n",
    "xgb_auc = auc(xgb_fpr, xgb_tpr)\n",
    "\n",
    "# 绘制 ROC 曲线\n",
    "plt.figure(figsize=(8, 6))\n",
    "plt.plot(rf_fpr, rf_tpr, color='blue', lw=2, label='Random Forest (AUC = %0.2f)' % rf_auc)\n",
    "plt.plot(xgb_fpr, xgb_tpr, color='green', lw=2, label='XGBoost (AUC = %0.2f)' % xgb_auc)\n",
    "plt.plot([0, 1], [0, 1], color='gray', lw=1, linestyle='--')\n",
    "plt.xlim([0.0, 1.0])\n",
    "plt.ylim([0.0, 1.05])\n",
    "plt.xlabel('False Positive Rate')\n",
    "plt.ylabel('True Positive Rate')\n",
    "plt.title('Receiver Operating Characteristic')\n",
    "plt.legend(loc=\"lower right\")\n",
    "plt.show()\n"
   ]
  },
  {
   "cell_type": "code",
   "execution_count": 299,
   "id": "85b12d83",
   "metadata": {},
   "outputs": [
    {
     "name": "stdout",
     "output_type": "stream",
     "text": [
      "Looking in indexes: https://pypi.tuna.tsinghua.edu.cn/simple\n",
      "Collecting shap\n",
      "  Downloading https://pypi.tuna.tsinghua.edu.cn/packages/39/6c/4ab39615fc3ffe40faaa62fc2feb43868b8ce946c671e84bf476c1e06116/shap-0.45.0-cp311-cp311-win_amd64.whl (453 kB)\n",
      "                                              0.0/453.1 kB ? eta -:--:--\n",
      "     --                                       30.7/453.1 kB ? eta -:--:--\n",
      "     ---                                   41.0/453.1 kB 653.6 kB/s eta 0:00:01\n",
      "     -------                               92.2/453.1 kB 655.4 kB/s eta 0:00:01\n",
      "     -----------                          143.4/453.1 kB 853.3 kB/s eta 0:00:01\n",
      "     ------------                         153.6/453.1 kB 833.5 kB/s eta 0:00:01\n",
      "     ------------                         153.6/453.1 kB 833.5 kB/s eta 0:00:01\n",
      "     ----------------                     204.8/453.1 kB 734.2 kB/s eta 0:00:01\n",
      "     ------------------                   235.5/453.1 kB 686.8 kB/s eta 0:00:01\n",
      "     --------------------                 256.0/453.1 kB 714.4 kB/s eta 0:00:01\n",
      "     ----------------------               286.7/453.1 kB 737.3 kB/s eta 0:00:01\n",
      "     -------------------------            317.4/453.1 kB 703.0 kB/s eta 0:00:01\n",
      "     ----------------------------         358.4/453.1 kB 719.3 kB/s eta 0:00:01\n",
      "     -----------------------------        368.6/453.1 kB 716.8 kB/s eta 0:00:01\n",
      "     ---------------------------------    419.8/453.1 kB 728.8 kB/s eta 0:00:01\n",
      "     ---------------------------------    419.8/453.1 kB 728.8 kB/s eta 0:00:01\n",
      "     ------------------------------------ 453.1/453.1 kB 708.6 kB/s eta 0:00:00\n",
      "Requirement already satisfied: numpy in d:\\software\\anaconda\\lib\\site-packages (from shap) (1.24.3)\n",
      "Requirement already satisfied: scipy in d:\\software\\anaconda\\lib\\site-packages (from shap) (1.11.3)\n",
      "Requirement already satisfied: scikit-learn in d:\\software\\anaconda\\lib\\site-packages (from shap) (1.4.0)\n",
      "Requirement already satisfied: pandas in d:\\software\\anaconda\\lib\\site-packages (from shap) (2.1.1)\n",
      "Requirement already satisfied: tqdm>=4.27.0 in d:\\software\\anaconda\\lib\\site-packages (from shap) (4.65.0)\n",
      "Requirement already satisfied: packaging>20.9 in d:\\software\\anaconda\\lib\\site-packages (from shap) (23.1)\n",
      "Collecting slicer==0.0.7 (from shap)\n",
      "  Downloading https://pypi.tuna.tsinghua.edu.cn/packages/78/c2/b3f55dfdb8af9812fdb9baf70cacf3b9e82e505b2bd4324d588888b81202/slicer-0.0.7-py3-none-any.whl (14 kB)\n",
      "Requirement already satisfied: numba in d:\\software\\anaconda\\lib\\site-packages (from shap) (0.58.0)\n",
      "Requirement already satisfied: cloudpickle in d:\\software\\anaconda\\lib\\site-packages (from shap) (2.2.1)\n",
      "Requirement already satisfied: colorama in d:\\software\\anaconda\\lib\\site-packages (from tqdm>=4.27.0->shap) (0.4.6)\n",
      "Requirement already satisfied: llvmlite<0.42,>=0.41.0dev0 in d:\\software\\anaconda\\lib\\site-packages (from numba->shap) (0.41.0)\n",
      "Requirement already satisfied: python-dateutil>=2.8.2 in d:\\software\\anaconda\\lib\\site-packages (from pandas->shap) (2.8.2)\n",
      "Requirement already satisfied: pytz>=2020.1 in d:\\software\\anaconda\\lib\\site-packages (from pandas->shap) (2023.3.post1)\n",
      "Requirement already satisfied: tzdata>=2022.1 in d:\\software\\anaconda\\lib\\site-packages (from pandas->shap) (2023.3)\n",
      "Requirement already satisfied: joblib>=1.2.0 in d:\\software\\anaconda\\lib\\site-packages (from scikit-learn->shap) (1.2.0)\n",
      "Requirement already satisfied: threadpoolctl>=2.0.0 in d:\\software\\anaconda\\lib\\site-packages (from scikit-learn->shap) (2.2.0)\n",
      "Requirement already satisfied: six>=1.5 in d:\\software\\anaconda\\lib\\site-packages (from python-dateutil>=2.8.2->pandas->shap) (1.16.0)\n",
      "Installing collected packages: slicer, shap\n",
      "Successfully installed shap-0.45.0 slicer-0.0.7\n"
     ]
    }
   ],
   "source": [
    "!pip install shap\n"
   ]
  },
  {
   "cell_type": "code",
   "execution_count": 300,
   "id": "df7db4c4",
   "metadata": {},
   "outputs": [
    {
     "data": {
      "image/png": "[encoded data removed]",
      "text/plain": [
       "<Figure size 800x350 with 2 Axes>"
      ]
     },
     "metadata": {},
     "output_type": "display_data"
    }
   ],
   "source": [
    "import shap\n",
    "\n",
    "# 创建 SHAP 解释器对象\n",
    "explainer = shap.Explainer(xgb_model, X_train)\n",
    "\n",
    "# 获取 SHAP 值\n",
    "shap_values = explainer.shap_values(X_test)\n",
    "\n",
    "# 可视化 SHAP 值\n",
    "shap.summary_plot(shap_values, X_test)\n",
    "\n"
   ]
  },
  {
   "cell_type": "code",
   "execution_count": null,
   "id": "039bada8",
   "metadata": {},
   "outputs": [],
   "source": []
  }
 ],
 "metadata": {
  "kernelspec": {
   "display_name": "Python 3 (ipykernel)",
   "language": "python",
   "name": "python3"
  },
  "language_info": {
   "codemirror_mode": {
    "name": "ipython",
    "version": 3
   },
   "file_extension": ".py",
   "mimetype": "text/x-python",
   "name": "python",
   "nbconvert_exporter": "python",
   "pygments_lexer": "ipython3",
   "version": "3.11.5"
  }
 },
 "nbformat": 4,
 "nbformat_minor": 5
}
